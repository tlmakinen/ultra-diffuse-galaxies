{
 "cells": [
  {
   "cell_type": "code",
   "execution_count": 97,
   "metadata": {},
   "outputs": [],
   "source": [
    "import os\n",
    "import numpy as np\n",
    "import matplotlib.pyplot as plt\n",
    "import matplotlib\n",
    "from matplotlib.patches import Polygon\n",
    "from matplotlib.collections import PatchCollection\n",
    "from astropy.table import Table\n",
    "import scipy, pylab\n",
    "import math\n",
    "import astropy\n",
    "import pyregion\n",
    "from matplotlib.lines import Line2D\n",
    "from astropy.io import fits\n",
    "import matplotlib.cm as cmx\n",
    "import matplotlib.colors as colors"
   ]
  },
  {
   "cell_type": "code",
   "execution_count": 131,
   "metadata": {},
   "outputs": [
    {
     "data": {
      "image/png": "[encoded data removed]",
      "text/plain": [
       "<matplotlib.figure.Figure at 0x1b865da75c0>"
      ]
     },
     "metadata": {},
     "output_type": "display_data"
    }
   ],
   "source": [
    "wittmann = Table.read('wittmann-2017.csv')\n",
    "netcounts11714 = Table.read('netcounts/11714_netcounts.csv')\n",
    "netcounts11715 = Table.read('netcounts/11715_netcounts.csv')\n",
    "netcounts11713 = Table.read('netcounts/11713_netcounts.csv')\n",
    "\n",
    "netcounts = np.append(netcounts11713['net_counts'], netcounts11714['net_counts']) \n",
    "netcounts = np.append(netcounts, netcounts11715['net_counts'])                                      # all netcount info\n",
    "\n",
    "netcounts_300 = netcounts[0::2]\n",
    "netcounts_2000 = netcounts[1::2]\n",
    "\n",
    "idarray = np.append(netcounts11713['ID'], (netcounts11714['ID']))\n",
    "idarray = np.append(idarray, (netcounts11715['ID']))\n",
    "\n",
    "idarray\n",
    "idnums_300 = []\n",
    "for i in range(len(idarray)):\n",
    "    idnum = str(idarray[i])\n",
    "    num = idnum.split('.')[0] \n",
    "    idnums_300.append(num)             # get all of the investigated object IDs\n",
    "\n",
    "idnums_300 = idnums[0::2]              # take every other id number (doubles of each)\n",
    "idnums_300 = [int(n) for n in idnums]  # convert to integers\n",
    "\n",
    "\n",
    "    \n",
    "ra = np.zeros(len(idnums_300))\n",
    "dec = np.zeros(len(idnums_300))\n",
    "\n",
    "wittra = wittmann['ra']\n",
    "wittdec = wittmann['dec']\n",
    "wittID = wittmann['ID']\n",
    "\n",
    "for i in range(len(wittID)):          # get the associated ra and dec for each investigated object from the wittmann data\n",
    "    for j in range(len(idnums_300)):\n",
    "        if wittID[i] == idnums_300[j]:\n",
    "            ra[j] = wittra[i]\n",
    "            dec[j] = wittdec[i]\n",
    "            \n",
    "#-----compute distances from NGC1275-----\n",
    "def degreedist(ra, dec):\n",
    "    raNGC = math.radians(49.95041666)\n",
    "    decNGC = math.radians(41.51138889)\n",
    " \n",
    "    ra = math.radians(ra)\n",
    "    dec = math.radians(dec)\n",
    "    cosdist = math.sin(decNGC)*math.sin(dec) + math.cos(decNGC)*math.cos(dec)*math.cos(raNGC - ra)\n",
    "    return math.degrees(math.acos(cosdist))\n",
    "\n",
    "distarray = np.zeros(len(ra))\n",
    "for i in range(len(ra)):\n",
    "    distarray[i] = degreedist(ra[i], dec[i])\n",
    "distarray = distarray[0::2]\n",
    "\n",
    "ax1 = pylab.subplot(111)\n",
    "ax1.scatter(distarray, netcounts_300, s=80, facecolors='none', edgecolors='r', label='0.3-2kev')\n",
    "\n",
    "ax1.scatter(distarray, netcounts_2000, s=10, c = 'b', marker = \"o\", label = '2-7kev')\n",
    "\n",
    "#pylab.ylim([40.8, 42.0])\n",
    "#pylab.xlim([])\n",
    "plt.xlabel('distance from NGC1275 \\n [deg]')\n",
    "plt.ylabel('net counts \\n [counts]')\n",
    "plt.tight_layout()\n",
    "\n",
    "plt.show()\n",
    "    \n"
   ]
  },
  {
   "cell_type": "code",
   "execution_count": null,
   "metadata": {
    "collapsed": true
   },
   "outputs": [],
   "source": [
    "#ax1 = pylab.subplot(111)\n",
    "ax1.scatter(songra, songdec, s=80, facecolors='none', edgecolors='r', label='Song')\n",
    "ax1.scatter(wittmann['ra'], wittmann['dec'], s=10, c = 'b', marker = \"o\", label = 'Wittmann')\n",
    "x1275 = [49.95041666]\n",
    "y1275 = [41.51138889]\n",
    "ax1.plot(x1275,y1275, '+r', label='NGC1275')           # plot NGC1275 (center of Perseus Cluster)\n",
    "plt.legend(loc='lower right');\n",
    "\n",
    "pylab.ylim([40.8, 42.0])\n",
    "pylab.xlim([49.0, 51.0])\n",
    "plt.xlabel('$ra [deg]$')\n",
    "plt.ylabel('$dec [deg]$')\n",
    "plt.tight_layout()"
   ]
  },
  {
   "cell_type": "code",
   "execution_count": 10,
   "metadata": {},
   "outputs": [
    {
     "name": "stdout",
     "output_type": "stream",
     "text": [
      "16\n"
     ]
    }
   ],
   "source": [
    "netcounts11715 = Table.read('netcounts/11715_netcounts.csv')\n",
    "print(len(netcounts11715['net_counts']))"
   ]
  },
  {
   "cell_type": "code",
   "execution_count": null,
   "metadata": {
    "collapsed": true
   },
   "outputs": [],
   "source": []
  }
 ],
 "metadata": {
  "kernelspec": {
   "display_name": "Python 3",
   "language": "python",
   "name": "python3"
  },
  "language_info": {
   "codemirror_mode": {
    "name": "ipython",
    "version": 3
   },
   "file_extension": ".py",
   "mimetype": "text/x-python",
   "name": "python",
   "nbconvert_exporter": "python",
   "pygments_lexer": "ipython3",
   "version": "3.6.1"
  }
 },
 "nbformat": 4,
 "nbformat_minor": 2
}
