{
 "cells": [
  {
   "cell_type": "code",
   "execution_count": 1,
   "metadata": {
    "collapsed": true
   },
   "outputs": [],
   "source": [
    "import numpy as np\n",
    "import math\n",
    "import matplotlib.pyplot as plt\n",
    "import pylab\n",
    "from csv import reader\n",
    "import astropy\n",
    "import pyregion"
   ]
  },
  {
   "cell_type": "code",
   "execution_count": 2,
   "metadata": {
    "collapsed": true
   },
   "outputs": [],
   "source": [
    "from astropy.table import Table"
   ]
  },
  {
   "cell_type": "code",
   "execution_count": 3,
   "metadata": {
    "collapsed": true
   },
   "outputs": [],
   "source": [
    "songhigh = Table.read('song-high-sb.csv')  #"
   ]
  },
  {
   "cell_type": "code",
   "execution_count": 4,
   "metadata": {},
   "outputs": [
    {
     "data": {
      "text/html": [
       "&lt;Table length=9&gt;\n",
       "<table id=\"table2441893435264\" class=\"table-striped table-bordered table-condensed\">\n",
       "<thead><tr><th>ra</th><th>dec</th></tr></thead>\n",
       "<thead><tr><th>float64</th><th>float64</th></tr></thead>\n",
       "<tr><td>50.0108330877</td><td>41.162407363</td></tr>\n",
       "<tr><td>49.1057078896</td><td>41.2430974847</td></tr>\n",
       "<tr><td>49.6241425569</td><td>41.3026517102</td></tr>\n",
       "<tr><td>50.9924538089</td><td>41.4965404088</td></tr>\n",
       "<tr><td>50.7430031207</td><td>41.533643493</td></tr>\n",
       "<tr><td>50.6485621898</td><td>41.7391854273</td></tr>\n",
       "<tr><td>50.5338393184</td><td>41.7503858207</td></tr>\n",
       "<tr><td>49.4480547399</td><td>41.7929949131</td></tr>\n",
       "<tr><td>50.1902554605</td><td>41.9628198011</td></tr>\n",
       "</table>"
      ],
      "text/plain": [
       "<Table length=9>\n",
       "      ra           dec     \n",
       "   float64       float64   \n",
       "------------- -------------\n",
       "50.0108330877  41.162407363\n",
       "49.1057078896 41.2430974847\n",
       "49.6241425569 41.3026517102\n",
       "50.9924538089 41.4965404088\n",
       "50.7430031207  41.533643493\n",
       "50.6485621898 41.7391854273\n",
       "50.5338393184 41.7503858207\n",
       "49.4480547399 41.7929949131\n",
       "50.1902554605 41.9628198011"
      ]
     },
     "execution_count": 4,
     "metadata": {},
     "output_type": "execute_result"
    }
   ],
   "source": [
    "songhigh"
   ]
  },
  {
   "cell_type": "code",
   "execution_count": 5,
   "metadata": {
    "collapsed": true
   },
   "outputs": [],
   "source": [
    "songlow = Table.read('song-low-sb.csv')"
   ]
  },
  {
   "cell_type": "code",
   "execution_count": 6,
   "metadata": {},
   "outputs": [
    {
     "data": {
      "text/plain": [
       "['ra', 'dec']"
      ]
     },
     "execution_count": 6,
     "metadata": {},
     "output_type": "execute_result"
    }
   ],
   "source": [
    "songlow.colnames"
   ]
  },
  {
   "cell_type": "code",
   "execution_count": 7,
   "metadata": {
    "collapsed": true
   },
   "outputs": [],
   "source": [
    "wittmann = Table.read('wittmann-2017.csv')"
   ]
  },
  {
   "cell_type": "code",
   "execution_count": 8,
   "metadata": {},
   "outputs": [
    {
     "data": {
      "text/plain": [
       "['ID', 'ra', 'dec', 'mu_V', 'M_V', 'A_V', 'r_50', 'ell']"
      ]
     },
     "execution_count": 8,
     "metadata": {},
     "output_type": "execute_result"
    }
   ],
   "source": [
    "wittmann.colnames"
   ]
  },
  {
   "cell_type": "code",
   "execution_count": 9,
   "metadata": {
    "scrolled": false
   },
   "outputs": [
    {
     "data": {
      "image/png": "[encoded data removed]",
      "text/plain": [
       "<matplotlib.figure.Figure at 0x2388c3375c0>"
      ]
     },
     "metadata": {},
     "output_type": "display_data"
    },
    {
     "data": {
      "text/plain": [
       "<matplotlib.figure.Figure at 0x2388c4745c0>"
      ]
     },
     "metadata": {},
     "output_type": "display_data"
    }
   ],
   "source": [
    "\n",
    "\n",
    "import scipy, pylab\n",
    "ax1 = pylab.subplot(111)\n",
    "\n",
    "ax1.scatter(songlow['ra'], songlow['dec'], s=80, facecolors='none', edgecolors='r', label='Song_low')\n",
    "ax1.scatter(songhigh['ra'], songhigh['dec'], s=80, facecolors='none', edgecolors='r', label='Song_high')\n",
    "ax1.scatter(wittmann['ra'], wittmann['dec'], s=10, c = 'b', marker = \"o\", label = 'Wittmann')\n",
    "\n",
    "                    \n",
    "plt.legend(loc='upper right');\n",
    "                    \n",
    "\n",
    "pylab.ylim([40.8, 42.0])\n",
    "\n",
    "pylab.xlim([49.0, 51.0])\n",
    "plt.xlabel('$ra [deg]$')\n",
    "plt.ylabel('$dec [deg]$')\n",
    "plt.tight_layout()\n",
    "\n",
    "import matplotlib.patches as patches\n",
    "\n",
    "fig1 = plt.figure()\n",
    "\n",
    "ax1.add_patch(\n",
    "    patches.Rectangle(\n",
    "        (50.17167962, 41.49796279),   # (x,y)\n",
    "        .13,          # width\n",
    "        .13,          # height\n",
    "        fill=False,\n",
    "        edgecolor = 'b'  # I2 panel\n",
    "    )\n",
    ")\n",
    "\n",
    "ax1.add_patch(\n",
    "    patches.Rectangle(\n",
    "        (50.04738632, 41.60692993),\n",
    "        .13,\n",
    "        .13,\n",
    "        fill = False,\n",
    "        edgecolor = 'y'))\n",
    "\n",
    "ax1.add_patch(\n",
    "    patches.Rectangle(\n",
    "        (49.96330207, 41.39530242),\n",
    "        .13,\n",
    "        .13,\n",
    "        fill = False,\n",
    "        edgecolor = 'g'))  # S3 panel\n",
    "\n",
    "ax1.add_patch(\n",
    "    patches.Rectangle(\n",
    "        (50.29018972, 42.11896735),\n",
    "        .13,\n",
    "        .13,\n",
    "        fill = False,\n",
    "        edgecolor = 'r'))   # I0 panel\n",
    "\n",
    "plt.show()"
   ]
  },
  {
   "cell_type": "code",
   "execution_count": 17,
   "metadata": {},
   "outputs": [],
   "source": [
    "def plot_panel(fname):\n",
    "    r1 = pyregion.open(fname) # returns shapelist object\n",
    "    patch_list , artist_list = r.get_mpl_patches_texts()\n",
    "    return patch_list,artist_list\n",
    "\n",
    "plist,artlist = plot_panel(\"regfiles/17274.reg\")\n",
    "    "
   ]
  },
  {
   "cell_type": "code",
   "execution_count": 18,
   "metadata": {
    "scrolled": true
   },
   "outputs": [
    {
     "data": {
      "image/png": "[encoded data removed]",
      "text/plain": [
       "<matplotlib.figure.Figure at 0x2388dc050b8>"
      ]
     },
     "metadata": {},
     "output_type": "display_data"
    },
    {
     "data": {
      "text/plain": [
       "<matplotlib.figure.Figure at 0x2388dbbaa90>"
      ]
     },
     "metadata": {},
     "output_type": "display_data"
    }
   ],
   "source": [
    "import scipy, pylab\n",
    "ax1 = pylab.subplot(111)\n",
    "\n",
    "ax1.scatter(songlow['ra'], songlow['dec'], s=80, facecolors='none', edgecolors='r', label='Song_low')\n",
    "ax1.scatter(songhigh['ra'], songhigh['dec'], s=80, facecolors='none', edgecolors='r', label='Song_high')\n",
    "ax1.scatter(wittmann['ra'], wittmann['dec'], s=10, c = 'b', marker = \"o\", label = 'Wittmann')\n",
    "\n",
    "                    \n",
    "plt.legend(loc='upper right');\n",
    "                    \n",
    "\n",
    "pylab.ylim([40.8, 42.0])\n",
    "\n",
    "pylab.xlim([49.0, 51.0])\n",
    "plt.xlabel('$ra [deg]$')\n",
    "plt.ylabel('$dec [deg]$')\n",
    "plt.tight_layout()\n",
    "\n",
    "import matplotlib.patches as patches\n",
    "\n",
    "fig1 = plt.figure()\n",
    "\n",
    "for p in plist:\n",
    "    ax1.add_patch(p)\n",
    "for t in artlist:\n",
    "    ax1.add_artist(t)\n",
    "\n",
    "\n",
    "\n",
    "\n",
    "\n",
    "\n",
    "plt.show()"
   ]
  },
  {
   "cell_type": "code",
   "execution_count": 12,
   "metadata": {},
   "outputs": [
    {
     "ename": "NameError",
     "evalue": "name 'r' is not defined",
     "output_type": "error",
     "traceback": [
      "\u001b[1;31m---------------------------------------------------------------------------\u001b[0m",
      "\u001b[1;31mNameError\u001b[0m                                 Traceback (most recent call last)",
      "\u001b[1;32m<ipython-input-12-84a9f1a8591a>\u001b[0m in \u001b[0;36m<module>\u001b[1;34m()\u001b[0m\n\u001b[1;32m----> 1\u001b[1;33m \u001b[0mprint\u001b[0m\u001b[1;33m(\u001b[0m\u001b[0mr\u001b[0m\u001b[1;33m[\u001b[0m\u001b[1;36m0\u001b[0m\u001b[1;33m]\u001b[0m\u001b[1;33m.\u001b[0m\u001b[0mcoord_list\u001b[0m\u001b[1;33m)\u001b[0m\u001b[1;33m\u001b[0m\u001b[0m\n\u001b[0m",
      "\u001b[1;31mNameError\u001b[0m: name 'r' is not defined"
     ]
    }
   ],
   "source": [
    "print(r[0].coord_list)"
   ]
  },
  {
   "cell_type": "code",
   "execution_count": null,
   "metadata": {
    "collapsed": true
   },
   "outputs": [],
   "source": []
  },
  {
   "cell_type": "code",
   "execution_count": null,
   "metadata": {
    "collapsed": true
   },
   "outputs": [],
   "source": []
  }
 ],
 "metadata": {
  "kernelspec": {
   "display_name": "Python 3",
   "language": "python",
   "name": "python3"
  },
  "language_info": {
   "codemirror_mode": {
    "name": "ipython",
    "version": 3
   },
   "file_extension": ".py",
   "mimetype": "text/x-python",
   "name": "python",
   "nbconvert_exporter": "python",
   "pygments_lexer": "ipython3",
   "version": "3.6.1"
  }
 },
 "nbformat": 4,
 "nbformat_minor": 2
}
