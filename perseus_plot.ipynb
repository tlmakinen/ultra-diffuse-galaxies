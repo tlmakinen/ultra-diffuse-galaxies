{
 "cells": [
  {
   "cell_type": "code",
   "execution_count": 2,
   "metadata": {
    "collapsed": true
   },
   "outputs": [],
   "source": [
    "import numpy as np\n",
    "import math\n",
    "import matplotlib.pyplot as plt\n",
    "import pylab\n",
    "from csv import reader\n",
    "import astropy\n",
    "import pyregion"
   ]
  },
  {
   "cell_type": "code",
   "execution_count": 3,
   "metadata": {
    "collapsed": true
   },
   "outputs": [],
   "source": [
    "from astropy.table import Table"
   ]
  },
  {
   "cell_type": "code",
   "execution_count": 4,
   "metadata": {
    "collapsed": true
   },
   "outputs": [],
   "source": [
    "songhigh = Table.read('song-high-sb.csv')  #"
   ]
  },
  {
   "cell_type": "code",
   "execution_count": 5,
   "metadata": {},
   "outputs": [
    {
     "data": {
      "text/html": [
       "&lt;Table length=9&gt;\n",
       "<table id=\"table2174835839160\" class=\"table-striped table-bordered table-condensed\">\n",
       "<thead><tr><th>ra</th><th>dec</th></tr></thead>\n",
       "<thead><tr><th>float64</th><th>float64</th></tr></thead>\n",
       "<tr><td>50.0108330877</td><td>41.162407363</td></tr>\n",
       "<tr><td>49.1057078896</td><td>41.2430974847</td></tr>\n",
       "<tr><td>49.6241425569</td><td>41.3026517102</td></tr>\n",
       "<tr><td>50.9924538089</td><td>41.4965404088</td></tr>\n",
       "<tr><td>50.7430031207</td><td>41.533643493</td></tr>\n",
       "<tr><td>50.6485621898</td><td>41.7391854273</td></tr>\n",
       "<tr><td>50.5338393184</td><td>41.7503858207</td></tr>\n",
       "<tr><td>49.4480547399</td><td>41.7929949131</td></tr>\n",
       "<tr><td>50.1902554605</td><td>41.9628198011</td></tr>\n",
       "</table>"
      ],
      "text/plain": [
       "<Table length=9>\n",
       "      ra           dec     \n",
       "   float64       float64   \n",
       "------------- -------------\n",
       "50.0108330877  41.162407363\n",
       "49.1057078896 41.2430974847\n",
       "49.6241425569 41.3026517102\n",
       "50.9924538089 41.4965404088\n",
       "50.7430031207  41.533643493\n",
       "50.6485621898 41.7391854273\n",
       "50.5338393184 41.7503858207\n",
       "49.4480547399 41.7929949131\n",
       "50.1902554605 41.9628198011"
      ]
     },
     "execution_count": 5,
     "metadata": {},
     "output_type": "execute_result"
    }
   ],
   "source": [
    "songhigh"
   ]
  },
  {
   "cell_type": "code",
   "execution_count": 6,
   "metadata": {
    "collapsed": true
   },
   "outputs": [],
   "source": [
    "songlow = Table.read('song-low-sb.csv')"
   ]
  },
  {
   "cell_type": "code",
   "execution_count": 7,
   "metadata": {},
   "outputs": [
    {
     "data": {
      "text/plain": [
       "['ra', 'dec']"
      ]
     },
     "execution_count": 7,
     "metadata": {},
     "output_type": "execute_result"
    }
   ],
   "source": [
    "songlow.colnames"
   ]
  },
  {
   "cell_type": "code",
   "execution_count": 8,
   "metadata": {
    "collapsed": true
   },
   "outputs": [],
   "source": [
    "wittmann = Table.read('wittmann-2017.csv')"
   ]
  },
  {
   "cell_type": "code",
   "execution_count": 9,
   "metadata": {},
   "outputs": [
    {
     "data": {
      "text/plain": [
       "['ID', 'ra', 'dec', 'mu_V', 'M_V', 'A_V', 'r_50', 'ell']"
      ]
     },
     "execution_count": 9,
     "metadata": {},
     "output_type": "execute_result"
    }
   ],
   "source": [
    "wittmann.colnames"
   ]
  },
  {
   "cell_type": "code",
   "execution_count": 45,
   "metadata": {},
   "outputs": [
    {
     "data": {
      "text/plain": [
       "[49.98425411,\n",
       " 41.58728386,\n",
       " 49.81698178,\n",
       " 41.52218298,\n",
       " 49.90392726,\n",
       " 41.39704002,\n",
       " 50.07096346,\n",
       " 41.46201466]"
      ]
     },
     "execution_count": 45,
     "metadata": {},
     "output_type": "execute_result"
    }
   ],
   "source": [
    "r = pyregion.open(\"regfiles/502.reg\")\n",
    "r[2].coord_list"
   ]
  },
  {
   "cell_type": "code",
   "execution_count": 53,
   "metadata": {
    "collapsed": true
   },
   "outputs": [],
   "source": [
    "def image_file(imagenum):  # takes each file's number and returns a string filename\n",
    "    fname = 'regfiles/%s.reg' %imagenum\n",
    "    return fname"
   ]
  },
  {
   "cell_type": "code",
   "execution_count": 69,
   "metadata": {},
   "outputs": [
    {
     "ename": "TypeError",
     "evalue": "__init__() takes from 2 to 3 positional arguments but 4 were given",
     "output_type": "error",
     "traceback": [
      "\u001b[1;31m---------------------------------------------------------------------------\u001b[0m",
      "\u001b[1;31mTypeError\u001b[0m                                 Traceback (most recent call last)",
      "\u001b[1;32m<ipython-input-69-01add2e323ce>\u001b[0m in \u001b[0;36m<module>\u001b[1;34m()\u001b[0m\n\u001b[0;32m     32\u001b[0m \u001b[1;33m\u001b[0m\u001b[0m\n\u001b[0;32m     33\u001b[0m \u001b[1;32mfor\u001b[0m \u001b[0mi\u001b[0m \u001b[1;32min\u001b[0m \u001b[0mrange\u001b[0m\u001b[1;33m(\u001b[0m\u001b[0mN\u001b[0m\u001b[1;33m)\u001b[0m\u001b[1;33m:\u001b[0m\u001b[1;33m\u001b[0m\u001b[0m\n\u001b[1;32m---> 34\u001b[1;33m     \u001b[0mpolygon\u001b[0m \u001b[1;33m=\u001b[0m \u001b[0mPolygon\u001b[0m\u001b[1;33m(\u001b[0m\u001b[0mxcoords\u001b[0m\u001b[1;33m[\u001b[0m\u001b[0mi\u001b[0m\u001b[1;33m]\u001b[0m\u001b[1;33m,\u001b[0m\u001b[0mycoords\u001b[0m\u001b[1;33m[\u001b[0m\u001b[0mi\u001b[0m\u001b[1;33m]\u001b[0m\u001b[1;33m,\u001b[0m \u001b[1;32mTrue\u001b[0m\u001b[1;33m)\u001b[0m\u001b[1;33m\u001b[0m\u001b[0m\n\u001b[0m\u001b[0;32m     35\u001b[0m     \u001b[0mpatches\u001b[0m\u001b[1;33m.\u001b[0m\u001b[0mappend\u001b[0m\u001b[1;33m(\u001b[0m\u001b[0mpolygon\u001b[0m\u001b[1;33m)\u001b[0m\u001b[1;33m\u001b[0m\u001b[0m\n\u001b[0;32m     36\u001b[0m \u001b[1;33m\u001b[0m\u001b[0m\n",
      "\u001b[1;31mTypeError\u001b[0m: __init__() takes from 2 to 3 positional arguments but 4 were given"
     ]
    }
   ],
   "source": [
    "import numpy as np\n",
    "\n",
    "import matplotlib.pyplot as plt\n",
    "import matplotlib\n",
    "from matplotlib.patches import Polygon\n",
    "from matplotlib.collections import PatchCollection\n",
    "\n",
    "imagenum = 502\n",
    "polynum = 1\n",
    "panelnum = \"S3\"\n",
    "r = pyregion.open(image_file(imagenum))\n",
    "\n",
    "tag = r[polynum].comment\n",
    "\n",
    "referencetag = \"tag={%s}\" %panelnum\n",
    "\n",
    "xcoords = []  # a list of x-coordinate arrays for each polygon\n",
    "ycoords = []  # a list of y-coordinate arrays for each polygon\n",
    "\n",
    "for i in range(len(r)):\n",
    "    xy = r[i].coord_list\n",
    "    x = xy[::2]\n",
    "    y = xy[1::2]\n",
    "    xcoords.append(x)\n",
    "    ycoords.append(y)\n",
    "    \n",
    "\n",
    "\n",
    "fig, ax = plt.subplots()\n",
    "patches = []\n",
    "N = 5\n",
    "\n",
    "for i in range(N):\n",
    "    polygon = Polygon(xcoords[i],ycoords[i], True)\n",
    "    patches.append(polygon)\n",
    "\n",
    "p = PatchCollection(patches, cmap=matplotlib.cm.jet, alpha=0.4)\n",
    "\n",
    "colors = 100*np.random.rand(len(patches))\n",
    "p.set_array(np.array(colors))\n",
    "\n",
    "ax.add_collection(p)\n",
    "\n",
    "plt.show()\n",
    "    \n",
    "print(xcoords)\n",
    "\n",
    "for i in range(len(r)):\n",
    "    if r[i].comment == referencetag:\n",
    "        print(r[i].coord_list)\n",
    "        \n",
    "        \n",
    "\n",
    "\n",
    "\n",
    "\n",
    "\n",
    "    \n",
    "\n",
    "\n",
    "\n",
    "\n",
    "    "
   ]
  },
  {
   "cell_type": "code",
   "execution_count": 52,
   "metadata": {},
   "outputs": [
    {
     "data": {
      "text/plain": [
       "'tag={I0}'"
      ]
     },
     "execution_count": 52,
     "metadata": {},
     "output_type": "execute_result"
    }
   ],
   "source": [
    "def getpolygon(imagenum, tag,  )\n",
    "\n",
    "\n",
    "r = pyregion.open(\"regfiles/502.reg\")\n",
    "\n",
    "\n",
    "r[0].comment"
   ]
  },
  {
   "cell_type": "code",
   "execution_count": 36,
   "metadata": {},
   "outputs": [
    {
     "name": "stdout",
     "output_type": "stream",
     "text": [
      "[0, 2, 4, 6, 8]\n"
     ]
    }
   ],
   "source": [
    "a = [0,1,2,3,4,5,6,7,8,9]\n",
    "\n",
    "b = a[::2]  # Start at first element, then every other.\n",
    "c = a[1::2]  # Start at second element, then every other.\n",
    "\n",
    "print(b)"
   ]
  },
  {
   "cell_type": "code",
   "execution_count": 40,
   "metadata": {},
   "outputs": [
    {
     "data": {
      "image/png": "[encoded data removed]",
      "text/plain": [
       "<matplotlib.figure.Figure at 0x1fa60bd5d30>"
      ]
     },
     "metadata": {},
     "output_type": "display_data"
    }
   ],
   "source": [
    "import numpy as np\n",
    "\n",
    "import matplotlib.pyplot as plt\n",
    "import matplotlib\n",
    "from matplotlib.patches import Polygon\n",
    "from matplotlib.collections import PatchCollection\n",
    "\n",
    "fig, ax = plt.subplots()\n",
    "patches = []\n",
    "N = 5\n",
    "\n",
    "for i in range(N):\n",
    "    polygon = Polygon(np.random.rand(N,2), True)\n",
    "    patches.append(polygon)\n",
    "\n",
    "p = PatchCollection(patches, cmap=matplotlib.cm.jet, alpha=0.4)\n",
    "\n",
    "colors = 100*np.random.rand(len(patches))\n",
    "p.set_array(np.array(colors))\n",
    "\n",
    "ax.add_collection(p)\n",
    "\n",
    "plt.show()"
   ]
  },
  {
   "cell_type": "code",
   "execution_count": 28,
   "metadata": {},
   "outputs": [
    {
     "data": {
      "text/plain": [
       "[49.89597007,\n",
       " 41.71452867,\n",
       " 49.72845776,\n",
       " 41.64929942,\n",
       " 49.81574521,\n",
       " 41.52422319,\n",
       " 49.98302158,\n",
       " 41.58932586]"
      ]
     },
     "execution_count": 28,
     "metadata": {},
     "output_type": "execute_result"
    }
   ],
   "source": [
    "def create_panel(fname):\n",
    "    return pyregion.open(fname) # returns shapelist object\n",
    "r1 = create_panel(\"regfiles/502.reg\")\n",
    "\n",
    "r1[1].coord_list"
   ]
  },
  {
   "cell_type": "code",
   "execution_count": 15,
   "metadata": {
    "scrolled": true
   },
   "outputs": [
    {
     "data": {
      "image/png": "[encoded data removed]",
      "text/plain": [
       "<matplotlib.figure.Figure at 0x1fa5f7e9160>"
      ]
     },
     "metadata": {},
     "output_type": "display_data"
    }
   ],
   "source": [
    "def plotperseus(ds9fname):\n",
    "    \n",
    "    from astropy.table import Table\n",
    "    import scipy, pylab\n",
    "\n",
    "    songhigh = Table.read('song-high-sb.csv')\n",
    "    songlow = Table.read('song-low-sb.csv')\n",
    "    wittmann = Table.read('wittmann-2017.csv')\n",
    "\n",
    "    ax1 = pylab.subplot(111)\n",
    "\n",
    "    ax1.scatter(songlow['ra'], songlow['dec'], s=80, facecolors='none', edgecolors='r', label='Song_low')\n",
    "    ax1.scatter(songhigh['ra'], songhigh['dec'], s=80, facecolors='none', edgecolors='r', label='Song_high')\n",
    "    ax1.scatter(wittmann['ra'], wittmann['dec'], s=10, c = 'b', marker = \"o\", label = 'Wittmann')\n",
    "\n",
    "                    \n",
    "    plt.legend(loc='upper right');\n",
    "                    \n",
    "\n",
    "    pylab.ylim([40.8, 42.0])\n",
    "    pylab.xlim([49.0, 51.0])\n",
    "    plt.xlabel('$ra [deg]$')\n",
    "    plt.ylabel('$dec [deg]$')\n",
    "    plt.tight_layout()\n",
    "    \n",
    "    \n",
    "    \n",
    "\n",
    "    import matplotlib.patches as patches\n",
    "    import matplotlib.pyplot as plt\n",
    "\n",
    "    fig = plt.figure()\n",
    "    ax = fig.add_subplot(111)\n",
    "\n",
    "    verts = [0,0], [0,1], [1,1], [1,0]\n",
    "\n",
    "    poly = patches.Polygon(verts)\n",
    "\n",
    "    ax.add_patch(poly)\n",
    "\n",
    "    ax.set_xlim(-2,2)\n",
    "    ax.set_ylim(-2,2)\n",
    "\n",
    "    plt.show()\n",
    "    \n",
    "    \n",
    "plotperseus(\"regfiles/17274.reg\")\n",
    "\n",
    "\n"
   ]
  },
  {
   "cell_type": "code",
   "execution_count": null,
   "metadata": {},
   "outputs": [],
   "source": [
    "from astropy.table import Table\n",
    "import scipy, pylab\n",
    "\n",
    "songhigh = Table.read('song-high-sb.csv')\n",
    "songlow = Table.read('song-low-sb.csv')\n",
    "wittmann = Table.read('wittmann-2017.csv')\n",
    "\n",
    "ax1 = pylab.subplot(111)\n",
    "\n",
    "ax1.scatter(songlow['ra'], songlow['dec'], s=80, facecolors='none', edgecolors='r', label='Song_low')\n",
    "ax1.scatter(songhigh['ra'], songhigh['dec'], s=80, facecolors='none', edgecolors='r', label='Song_high')\n",
    "ax1.scatter(wittmann['ra'], wittmann['dec'], s=10, c = 'b', marker = \"o\", label = 'Wittmann')\n",
    "\n",
    "                    \n",
    "plt.legend(loc='upper right');\n",
    "                    \n",
    "\n",
    "pylab.ylim([40.8, 42.0])\n",
    "pylab.xlim([49.0, 51.0])\n",
    "plt.xlabel('$ra [deg]$')\n",
    "plt.ylabel('$dec [deg]$')\n",
    "plt.tight_layout()\n",
    "    \n",
    "import matplotlib.patches as patches\n",
    "    \n",
    "plist,artlist = create_panel(\"regfiles/5597.reg\")\n",
    "for p in plist:\n",
    "    ax1.add_patch(p)\n",
    "for t in artlist:\n",
    "    ax1.add_artist(t)\n",
    "\n",
    "plt.show()\n",
    "plist"
   ]
  },
  {
   "cell_type": "code",
   "execution_count": 168,
   "metadata": {},
   "outputs": [
    {
     "data": {
      "text/plain": [
       "['regfiles/17274.reg', 'regfiles/4948.reg', 'regfiles/4953.reg']"
      ]
     },
     "execution_count": 168,
     "metadata": {},
     "output_type": "execute_result"
    }
   ],
   "source": [
    "import glob, os\n",
    "def image_file(imagenum):  # takes each file's number and returns a string filename\n",
    "    fname = 'regfiles/%s.reg' %imagenum\n",
    "    return fname\n",
    "\n",
    "def reg_filelist(imagenumarray):\n",
    "    flist = imagenumarray\n",
    "    newlist = []\n",
    "    for imnum in flist:\n",
    "        newlist.append(image_file(imnum))\n",
    "    return newlist\n",
    "    \n",
    "numarray = [17274, 4948, 4953]\n",
    "reg_list = reg_filelist(numarray)\n",
    "reg_list\n",
    "    "
   ]
  },
  {
   "cell_type": "code",
   "execution_count": 173,
   "metadata": {},
   "outputs": [
    {
     "data": {
      "image/png": "[encoded data removed]",
      "text/plain": [
       "<matplotlib.figure.Figure at 0x1c33d0f8240>"
      ]
     },
     "metadata": {},
     "output_type": "display_data"
    }
   ],
   "source": [
    "plotperseus()\n",
    "import matplotlib.patches as patches\n",
    "plist,artlist= create_panel(\"regfiles/17274.reg\")\n",
    "for p in plist:\n",
    "    ax1.add_patch(p)\n",
    "for t in artlist:\n",
    "    ax1.add_artist(t)"
   ]
  },
  {
   "cell_type": "code",
   "execution_count": 171,
   "metadata": {},
   "outputs": [
    {
     "data": {
      "text/plain": [
       "[<matplotlib.patches.Polygon at 0x1c33ce82470>,\n",
       " <matplotlib.patches.Polygon at 0x1c33d05f160>,\n",
       " <matplotlib.patches.Polygon at 0x1c33d05f240>]"
      ]
     },
     "execution_count": 171,
     "metadata": {},
     "output_type": "execute_result"
    }
   ],
   "source": [
    "def list_patchlist(imagenumarray): # takes array of image numbers\n",
    "    import os\n",
    "    os.chdir(\"/Users/lucas/repositories/ultra-diffuse-galaxies\")\n",
    "    reg_list = reg_filelist(imagenumarray)\n",
    "    list1 = []\n",
    "    list1 = [create_panel(file) for file in reg_list]\n",
    "    return list1\n",
    "        \n",
    "list_of_regpatches = list_patchlist(numarray)\n",
    "\n",
    "plist0,artlist0 = list_of_regpatches[2]\n",
    "plist0"
   ]
  },
  {
   "cell_type": "code",
   "execution_count": null,
   "metadata": {
    "collapsed": true
   },
   "outputs": [],
   "source": [
    "import matplotlib.patches as patches\n",
    "numarray = [17274, 502, 6145]\n",
    "list_of_regpatcheslists = list_patchlist(numarray)\n",
    "\n",
    "\n",
    "plist0,artlist0 = list_of_regpatcheslists[0]\n",
    "for p in plist0:\n",
    "    ax1.add_patch(p)\n",
    "for t in artlist0:\n",
    "    ax1.add_artist(t)\n",
    "    \n",
    "plist1,artlist1 = list_of_regpatcheslists[1]\n",
    "for j in plist1:\n",
    "    ax1.add_patch(j)\n",
    "for r in artlist1:\n",
    "    ax1.add_artist(r)\n",
    "    \n",
    "plist2,artlist2 = list_of_regpatcheslists[2]\n",
    "for k in plist2:\n",
    "    ax1.add_patch(k)\n",
    "for e in artlist2:\n",
    "    ax1.add_artist(e)\n"
   ]
  },
  {
   "cell_type": "code",
   "execution_count": 114,
   "metadata": {
    "scrolled": true
   },
   "outputs": [
    {
     "ename": "RuntimeError",
     "evalue": "Can not put single artist in more than one figure",
     "output_type": "error",
     "traceback": [
      "\u001b[1;31m---------------------------------------------------------------------------\u001b[0m",
      "\u001b[1;31mRuntimeError\u001b[0m                              Traceback (most recent call last)",
      "\u001b[1;32m<ipython-input-114-3267e61be124>\u001b[0m in \u001b[0;36m<module>\u001b[1;34m()\u001b[0m\n\u001b[0;32m     22\u001b[0m \u001b[1;33m\u001b[0m\u001b[0m\n\u001b[0;32m     23\u001b[0m \u001b[1;32mfor\u001b[0m \u001b[0mp\u001b[0m \u001b[1;32min\u001b[0m \u001b[0mplist\u001b[0m\u001b[1;33m:\u001b[0m\u001b[1;33m\u001b[0m\u001b[0m\n\u001b[1;32m---> 24\u001b[1;33m     \u001b[0max1\u001b[0m\u001b[1;33m.\u001b[0m\u001b[0madd_patch\u001b[0m\u001b[1;33m(\u001b[0m\u001b[0mp\u001b[0m\u001b[1;33m)\u001b[0m\u001b[1;33m\u001b[0m\u001b[0m\n\u001b[0m\u001b[0;32m     25\u001b[0m \u001b[1;32mfor\u001b[0m \u001b[0mt\u001b[0m \u001b[1;32min\u001b[0m \u001b[0martlist\u001b[0m\u001b[1;33m:\u001b[0m\u001b[1;33m\u001b[0m\u001b[0m\n\u001b[0;32m     26\u001b[0m     \u001b[0max1\u001b[0m\u001b[1;33m.\u001b[0m\u001b[0madd_artist\u001b[0m\u001b[1;33m(\u001b[0m\u001b[0mt\u001b[0m\u001b[1;33m)\u001b[0m\u001b[1;33m\u001b[0m\u001b[0m\n",
      "\u001b[1;32mC:\\Users\\lucas\\Anaconda3\\lib\\site-packages\\matplotlib\\axes\\_base.py\u001b[0m in \u001b[0;36madd_patch\u001b[1;34m(self, p)\u001b[0m\n\u001b[0;32m   1863\u001b[0m         \"\"\"\n\u001b[0;32m   1864\u001b[0m \u001b[1;33m\u001b[0m\u001b[0m\n\u001b[1;32m-> 1865\u001b[1;33m         \u001b[0mself\u001b[0m\u001b[1;33m.\u001b[0m\u001b[0m_set_artist_props\u001b[0m\u001b[1;33m(\u001b[0m\u001b[0mp\u001b[0m\u001b[1;33m)\u001b[0m\u001b[1;33m\u001b[0m\u001b[0m\n\u001b[0m\u001b[0;32m   1866\u001b[0m         \u001b[1;32mif\u001b[0m \u001b[0mp\u001b[0m\u001b[1;33m.\u001b[0m\u001b[0mget_clip_path\u001b[0m\u001b[1;33m(\u001b[0m\u001b[1;33m)\u001b[0m \u001b[1;32mis\u001b[0m \u001b[1;32mNone\u001b[0m\u001b[1;33m:\u001b[0m\u001b[1;33m\u001b[0m\u001b[0m\n\u001b[0;32m   1867\u001b[0m             \u001b[0mp\u001b[0m\u001b[1;33m.\u001b[0m\u001b[0mset_clip_path\u001b[0m\u001b[1;33m(\u001b[0m\u001b[0mself\u001b[0m\u001b[1;33m.\u001b[0m\u001b[0mpatch\u001b[0m\u001b[1;33m)\u001b[0m\u001b[1;33m\u001b[0m\u001b[0m\n",
      "\u001b[1;32mC:\\Users\\lucas\\Anaconda3\\lib\\site-packages\\matplotlib\\axes\\_base.py\u001b[0m in \u001b[0;36m_set_artist_props\u001b[1;34m(self, a)\u001b[0m\n\u001b[0;32m    922\u001b[0m     \u001b[1;32mdef\u001b[0m \u001b[0m_set_artist_props\u001b[0m\u001b[1;33m(\u001b[0m\u001b[0mself\u001b[0m\u001b[1;33m,\u001b[0m \u001b[0ma\u001b[0m\u001b[1;33m)\u001b[0m\u001b[1;33m:\u001b[0m\u001b[1;33m\u001b[0m\u001b[0m\n\u001b[0;32m    923\u001b[0m         \u001b[1;34m\"\"\"set the boilerplate props for artists added to axes\"\"\"\u001b[0m\u001b[1;33m\u001b[0m\u001b[0m\n\u001b[1;32m--> 924\u001b[1;33m         \u001b[0ma\u001b[0m\u001b[1;33m.\u001b[0m\u001b[0mset_figure\u001b[0m\u001b[1;33m(\u001b[0m\u001b[0mself\u001b[0m\u001b[1;33m.\u001b[0m\u001b[0mfigure\u001b[0m\u001b[1;33m)\u001b[0m\u001b[1;33m\u001b[0m\u001b[0m\n\u001b[0m\u001b[0;32m    925\u001b[0m         \u001b[1;32mif\u001b[0m \u001b[1;32mnot\u001b[0m \u001b[0ma\u001b[0m\u001b[1;33m.\u001b[0m\u001b[0mis_transform_set\u001b[0m\u001b[1;33m(\u001b[0m\u001b[1;33m)\u001b[0m\u001b[1;33m:\u001b[0m\u001b[1;33m\u001b[0m\u001b[0m\n\u001b[0;32m    926\u001b[0m             \u001b[0ma\u001b[0m\u001b[1;33m.\u001b[0m\u001b[0mset_transform\u001b[0m\u001b[1;33m(\u001b[0m\u001b[0mself\u001b[0m\u001b[1;33m.\u001b[0m\u001b[0mtransData\u001b[0m\u001b[1;33m)\u001b[0m\u001b[1;33m\u001b[0m\u001b[0m\n",
      "\u001b[1;32mC:\\Users\\lucas\\Anaconda3\\lib\\site-packages\\matplotlib\\artist.py\u001b[0m in \u001b[0;36mset_figure\u001b[1;34m(self, fig)\u001b[0m\n\u001b[0;32m    648\u001b[0m         \u001b[1;31m# to more than one Axes\u001b[0m\u001b[1;33m\u001b[0m\u001b[1;33m\u001b[0m\u001b[0m\n\u001b[0;32m    649\u001b[0m         \u001b[1;32mif\u001b[0m \u001b[0mself\u001b[0m\u001b[1;33m.\u001b[0m\u001b[0mfigure\u001b[0m \u001b[1;32mis\u001b[0m \u001b[1;32mnot\u001b[0m \u001b[1;32mNone\u001b[0m\u001b[1;33m:\u001b[0m\u001b[1;33m\u001b[0m\u001b[0m\n\u001b[1;32m--> 650\u001b[1;33m             raise RuntimeError(\"Can not put single artist in \"\n\u001b[0m\u001b[0;32m    651\u001b[0m                                \"more than one figure\")\n\u001b[0;32m    652\u001b[0m         \u001b[0mself\u001b[0m\u001b[1;33m.\u001b[0m\u001b[0mfigure\u001b[0m \u001b[1;33m=\u001b[0m \u001b[0mfig\u001b[0m\u001b[1;33m\u001b[0m\u001b[0m\n",
      "\u001b[1;31mRuntimeError\u001b[0m: Can not put single artist in more than one figure"
     ]
    }
   ],
   "source": [
    "import scipy, pylab\n",
    "ax1 = pylab.subplot(111)\n",
    "\n",
    "ax1.scatter(songlow['ra'], songlow['dec'], s=80, facecolors='none', edgecolors='r', label='Song_low')\n",
    "ax1.scatter(songhigh['ra'], songhigh['dec'], s=80, facecolors='none', edgecolors='r', label='Song_high')\n",
    "ax1.scatter(wittmann['ra'], wittmann['dec'], s=10, c = 'b', marker = \"o\", label = 'Wittmann')\n",
    "\n",
    "                    \n",
    "plt.legend(loc='upper right');\n",
    "                    \n",
    "\n",
    "pylab.ylim([40.8, 42.0])\n",
    "\n",
    "pylab.xlim([49.0, 51.0])\n",
    "plt.xlabel('$ra [deg]$')\n",
    "plt.ylabel('$dec [deg]$')\n",
    "plt.tight_layout()\n",
    "\n",
    "import matplotlib.patches as patches\n",
    "\n",
    "#fig1 = plt.figure()\n",
    "\n",
    "for p in plist:\n",
    "    ax1.add_patch(p)\n",
    "for t in artlist:\n",
    "    ax1.add_artist(t)\n",
    "\n",
    "\n",
    "\n",
    "\n",
    "\n",
    "\n",
    "plt.show()"
   ]
  },
  {
   "cell_type": "code",
   "execution_count": 19,
   "metadata": {},
   "outputs": [
    {
     "ename": "NameError",
     "evalue": "name 'r1' is not defined",
     "output_type": "error",
     "traceback": [
      "\u001b[1;31m---------------------------------------------------------------------------\u001b[0m",
      "\u001b[1;31mNameError\u001b[0m                                 Traceback (most recent call last)",
      "\u001b[1;32m<ipython-input-19-1d9a1dc63396>\u001b[0m in \u001b[0;36m<module>\u001b[1;34m()\u001b[0m\n\u001b[1;32m----> 1\u001b[1;33m \u001b[0mprint\u001b[0m\u001b[1;33m(\u001b[0m\u001b[0mr1\u001b[0m\u001b[1;33m[\u001b[0m\u001b[1;36m0\u001b[0m\u001b[1;33m]\u001b[0m\u001b[1;33m.\u001b[0m\u001b[0mcoord_list\u001b[0m\u001b[1;33m)\u001b[0m\u001b[1;33m\u001b[0m\u001b[0m\n\u001b[0m",
      "\u001b[1;31mNameError\u001b[0m: name 'r1' is not defined"
     ]
    }
   ],
   "source": [
    "print(r1[0].coord_list)"
   ]
  },
  {
   "cell_type": "code",
   "execution_count": null,
   "metadata": {
    "collapsed": true
   },
   "outputs": [],
   "source": []
  },
  {
   "cell_type": "code",
   "execution_count": null,
   "metadata": {
    "collapsed": true
   },
   "outputs": [],
   "source": []
  }
 ],
 "metadata": {
  "kernelspec": {
   "display_name": "Python 3",
   "language": "python",
   "name": "python3"
  }
 },
 "nbformat": 4,
 "nbformat_minor": 2
}
