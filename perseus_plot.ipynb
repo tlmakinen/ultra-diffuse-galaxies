{
 "cells": [
  {
   "cell_type": "code",
   "execution_count": 2,
   "metadata": {
    "collapsed": true
   },
   "outputs": [],
   "source": [
    "import numpy as np\n",
    "import math\n",
    "import matplotlib.pyplot as plt\n",
    "import pylab\n",
    "from csv import reader\n",
    "import astropy\n",
    "import pyregion"
   ]
  },
  {
   "cell_type": "code",
   "execution_count": 3,
   "metadata": {
    "collapsed": true
   },
   "outputs": [],
   "source": [
    "from astropy.table import Table"
   ]
  },
  {
   "cell_type": "code",
   "execution_count": 4,
   "metadata": {
    "collapsed": true
   },
   "outputs": [],
   "source": [
    "songhigh = Table.read('song-high-sb.csv')  #"
   ]
  },
  {
   "cell_type": "code",
   "execution_count": 5,
   "metadata": {},
   "outputs": [
    {
     "data": {
      "text/html": [
       "&lt;Table length=9&gt;\n",
       "<table id=\"table2174835839160\" class=\"table-striped table-bordered table-condensed\">\n",
       "<thead><tr><th>ra</th><th>dec</th></tr></thead>\n",
       "<thead><tr><th>float64</th><th>float64</th></tr></thead>\n",
       "<tr><td>50.0108330877</td><td>41.162407363</td></tr>\n",
       "<tr><td>49.1057078896</td><td>41.2430974847</td></tr>\n",
       "<tr><td>49.6241425569</td><td>41.3026517102</td></tr>\n",
       "<tr><td>50.9924538089</td><td>41.4965404088</td></tr>\n",
       "<tr><td>50.7430031207</td><td>41.533643493</td></tr>\n",
       "<tr><td>50.6485621898</td><td>41.7391854273</td></tr>\n",
       "<tr><td>50.5338393184</td><td>41.7503858207</td></tr>\n",
       "<tr><td>49.4480547399</td><td>41.7929949131</td></tr>\n",
       "<tr><td>50.1902554605</td><td>41.9628198011</td></tr>\n",
       "</table>"
      ],
      "text/plain": [
       "<Table length=9>\n",
       "      ra           dec     \n",
       "   float64       float64   \n",
       "------------- -------------\n",
       "50.0108330877  41.162407363\n",
       "49.1057078896 41.2430974847\n",
       "49.6241425569 41.3026517102\n",
       "50.9924538089 41.4965404088\n",
       "50.7430031207  41.533643493\n",
       "50.6485621898 41.7391854273\n",
       "50.5338393184 41.7503858207\n",
       "49.4480547399 41.7929949131\n",
       "50.1902554605 41.9628198011"
      ]
     },
     "execution_count": 5,
     "metadata": {},
     "output_type": "execute_result"
    }
   ],
   "source": [
    "songhigh"
   ]
  },
  {
   "cell_type": "code",
   "execution_count": 6,
   "metadata": {
    "collapsed": true
   },
   "outputs": [],
   "source": [
    "songlow = Table.read('song-low-sb.csv')"
   ]
  },
  {
   "cell_type": "code",
   "execution_count": 7,
   "metadata": {},
   "outputs": [
    {
     "data": {
      "text/plain": [
       "['ra', 'dec']"
      ]
     },
     "execution_count": 7,
     "metadata": {},
     "output_type": "execute_result"
    }
   ],
   "source": [
    "songlow.colnames"
   ]
  },
  {
   "cell_type": "code",
   "execution_count": 8,
   "metadata": {
    "collapsed": true
   },
   "outputs": [],
   "source": [
    "wittmann = Table.read('wittmann-2017.csv')"
   ]
  },
  {
   "cell_type": "code",
   "execution_count": 9,
   "metadata": {},
   "outputs": [
    {
     "data": {
      "text/plain": [
       "['ID', 'ra', 'dec', 'mu_V', 'M_V', 'A_V', 'r_50', 'ell']"
      ]
     },
     "execution_count": 9,
     "metadata": {},
     "output_type": "execute_result"
    }
   ],
   "source": [
    "wittmann.colnames"
   ]
  },
  {
   "cell_type": "code",
   "execution_count": 45,
   "metadata": {},
   "outputs": [
    {
     "data": {
      "text/plain": [
       "[49.98425411,\n",
       " 41.58728386,\n",
       " 49.81698178,\n",
       " 41.52218298,\n",
       " 49.90392726,\n",
       " 41.39704002,\n",
       " 50.07096346,\n",
       " 41.46201466]"
      ]
     },
     "execution_count": 45,
     "metadata": {},
     "output_type": "execute_result"
    }
   ],
   "source": [
    "r = pyregion.open(\"regfiles/502.reg\")\n",
    "r[2].coord_list"
   ]
  },
  {
   "cell_type": "code",
   "execution_count": 53,
   "metadata": {
    "collapsed": true
   },
   "outputs": [],
   "source": [
    "def image_file(imagenum):  # takes each file's number and returns a string filename\n",
    "    fname = 'regfiles/%s.reg' %imagenum\n",
    "    return fname"
   ]
  },
  {
   "cell_type": "code",
   "execution_count": 121,
   "metadata": {},
   "outputs": [
    {
     "data": {
      "image/png": "[encoded data removed]",
      "text/plain": [
       "<matplotlib.figure.Figure at 0x1fa60b95a90>"
      ]
     },
     "metadata": {},
     "output_type": "display_data"
    },
    {
     "name": "stdout",
     "output_type": "stream",
     "text": [
      "[[49.75047834, 49.58361056, 49.67091833, 49.83755341]]\n"
     ]
    }
   ],
   "source": [
    "import numpy as np\n",
    "\n",
    "import matplotlib.pyplot as plt\n",
    "import matplotlib\n",
    "from matplotlib.patches import Polygon\n",
    "from matplotlib.collections import PatchCollection\n",
    "\n",
    "\n",
    "imagenum = 502\n",
    "polynum = 1\n",
    "\n",
    "paneltolookat = \"S3, I3, I2\"\n",
    "\n",
    "panelnum = \"S3\"\n",
    "r = pyregion.open(image_file(imagenum))\n",
    "\n",
    "tag = r[polynum].comment\n",
    "\n",
    "referencetag = \"tag={%s}\" %panelnum\n",
    "\n",
    "xyarrays = []\n",
    "\n",
    "for i in range(len(r)):\n",
    "    if r[i].comment == referencetag:\n",
    "        xyarrays.append(r[i].coord_list)\n",
    "\n",
    "\n",
    "xcoords = []  # a list of x-coordinate arrays for each polygon\n",
    "ycoords = []  # a list of y-coordinate arrays for each polygon\n",
    "\n",
    "fig, ax = plt.subplots()\n",
    "patches = []\n",
    "\n",
    "for i in range(len(xyarrays)):\n",
    "    xy = xyarrays[i]\n",
    "    x = xy[::2]\n",
    "    y = xy[1::2]\n",
    "    xcoords.append(x)\n",
    "    ycoords.append(y)\n",
    "    panel = Polygon([[xy[0],xy[1]], [xy[2],xy[3]], [xy[4],xy[5]], [xy[6],xy[7]]], True)\n",
    "    patches.append(panel)\n",
    "    \n",
    "\n",
    "p = PatchCollection(patches, cmap=matplotlib.cm.jet, alpha=0.4)\n",
    "\n",
    "colors = 100*np.random.rand(len(patches))\n",
    "p.set_array(np.array(colors))\n",
    "\n",
    "ax1.add_collection(p)\n",
    "\n",
    "plt.show()\n",
    "    \n",
    "print(xcoords)\n",
    "\n",
    "\n",
    "        \n",
    "        \n",
    "\n",
    "\n",
    "\n",
    "\n",
    "\n",
    "    \n",
    "\n",
    "\n",
    "\n",
    "\n",
    "    "
   ]
  },
  {
   "cell_type": "code",
   "execution_count": 36,
   "metadata": {},
   "outputs": [
    {
     "name": "stdout",
     "output_type": "stream",
     "text": [
      "[0, 2, 4, 6, 8]\n"
     ]
    }
   ],
   "source": [
    "a = [0,1,2,3,4,5,6,7,8,9]\n",
    "\n",
    "b = a[::2]  # Start at first element, then every other.\n",
    "c = a[1::2]  # Start at second element, then every other.\n",
    "\n",
    "print(b)"
   ]
  },
  {
   "cell_type": "code",
   "execution_count": 92,
   "metadata": {
    "scrolled": true
   },
   "outputs": [
    {
     "data": {
      "image/png": "[encoded data removed]",
      "text/plain": [
       "<matplotlib.figure.Figure at 0x1fa5fa01b70>"
      ]
     },
     "metadata": {},
     "output_type": "display_data"
    }
   ],
   "source": [
    "import numpy as np\n",
    "\n",
    "import matplotlib.pyplot as plt\n",
    "import matplotlib\n",
    "from matplotlib.patches import Polygon\n",
    "from matplotlib.collections import PatchCollection\n",
    "\n",
    "fig, ax = plt.subplots()\n",
    "patches = []\n",
    "N = 5\n",
    "\n",
    "for i in range(N):\n",
    "    polygon = Polygon(np.random.rand(N,2), True)\n",
    "    patches.append(polygon)\n",
    "\n",
    "p = PatchCollection(patches, cmap=matplotlib.cm.jet, alpha=0.4)\n",
    "\n",
    "colors = 100*np.random.rand(len(patches))\n",
    "p.set_array(np.array(colors))\n",
    "\n",
    "ax.add_collection(p)\n",
    "\n",
    "plt.show()"
   ]
  },
  {
   "cell_type": "code",
   "execution_count": 99,
   "metadata": {},
   "outputs": [
    {
     "name": "stdout",
     "output_type": "stream",
     "text": [
      "45\n"
     ]
    }
   ],
   "source": [
    "tel = dict(john=45, sally=85)\n",
    "print(tel['john'])"
   ]
  },
  {
   "cell_type": "code",
   "execution_count": 28,
   "metadata": {},
   "outputs": [
    {
     "data": {
      "text/plain": [
       "[49.89597007,\n",
       " 41.71452867,\n",
       " 49.72845776,\n",
       " 41.64929942,\n",
       " 49.81574521,\n",
       " 41.52422319,\n",
       " 49.98302158,\n",
       " 41.58932586]"
      ]
     },
     "execution_count": 28,
     "metadata": {},
     "output_type": "execute_result"
    }
   ],
   "source": [
    "def create_panel(fname):\n",
    "    return pyregion.open(fname) # returns shapelist object\n",
    "r1 = create_panel(\"regfiles/502.reg\")\n",
    "\n",
    "r1[1].coord_list"
   ]
  },
  {
   "cell_type": "code",
   "execution_count": 73,
   "metadata": {
    "scrolled": true
   },
   "outputs": [
    {
     "ename": "IndentationError",
     "evalue": "unexpected indent (<ipython-input-73-45b730960ff1>, line 118)",
     "output_type": "error",
     "traceback": [
      "\u001b[1;36m  File \u001b[1;32m\"<ipython-input-73-45b730960ff1>\"\u001b[1;36m, line \u001b[1;32m118\u001b[0m\n\u001b[1;33m    plt.show()\u001b[0m\n\u001b[1;37m    ^\u001b[0m\n\u001b[1;31mIndentationError\u001b[0m\u001b[1;31m:\u001b[0m unexpected indent\n"
     ]
    }
   ],
   "source": [
    "def plotperseus():\n",
    "    \n",
    "    from astropy.table import Table\n",
    "    import scipy, pylab\n",
    "\n",
    "    songhigh = Table.read('song-high-sb.csv')\n",
    "    songlow = Table.read('song-low-sb.csv')\n",
    "    wittmann = Table.read('wittmann-2017.csv')\n",
    "\n",
    "    ax1 = pylab.subplot(111)\n",
    "\n",
    "    ax1.scatter(songlow['ra'], songlow['dec'], s=80, facecolors='none', edgecolors='r', label='Song_low')\n",
    "    ax1.scatter(songhigh['ra'], songhigh['dec'], s=80, facecolors='none', edgecolors='r', label='Song_high')\n",
    "    ax1.scatter(wittmann['ra'], wittmann['dec'], s=10, c = 'b', marker = \"o\", label = 'Wittmann')\n",
    "\n",
    "                    \n",
    "    plt.legend(loc='upper right');\n",
    "                    \n",
    "\n",
    "    pylab.ylim([40.8, 42.0])\n",
    "    pylab.xlim([49.0, 51.0])\n",
    "    plt.xlabel('$ra [deg]$')\n",
    "    plt.ylabel('$dec [deg]$')\n",
    "    plt.tight_layout()\n",
    "    \n",
    "    \n",
    "    \n",
    "\n",
    "   # import matplotlib.patches as patches\n",
    "    #import matplotlib.pyplot as plt\n",
    "\n",
    "#    fig = plt.figure()\n",
    " #   ax = fig.add_subplot(111)\n",
    "\n",
    "  #  verts = [0,0], [0,1], [1,1], [1,0]\n",
    "\n",
    "   # poly = patches.Polygon(verts)\n",
    "\n",
    "    #ax.add_patch(poly)\n",
    "\n",
    "   # ax.set_xlim(-2,2)\n",
    "    #ax.set_ylim(-2,2)\n",
    "    \n",
    "    \n",
    "\n",
    "    plt.show()\n",
    "    \n",
    "    \n",
    "plotperseus()\n",
    "\n",
    "\n"
   ]
  },
  {
   "cell_type": "code",
   "execution_count": 132,
   "metadata": {},
   "outputs": [
    {
     "data": {
      "image/png": "[encoded data removed]",
      "text/plain": [
       "<matplotlib.figure.Figure at 0x1fa5f86eac8>"
      ]
     },
     "metadata": {},
     "output_type": "display_data"
    },
    {
     "ename": "NameError",
     "evalue": "name 'commentarray' is not defined",
     "output_type": "error",
     "traceback": [
      "\u001b[1;31m---------------------------------------------------------------------------\u001b[0m",
      "\u001b[1;31mNameError\u001b[0m                                 Traceback (most recent call last)",
      "\u001b[1;32m<ipython-input-132-4f2058cc8eaa>\u001b[0m in \u001b[0;36m<module>\u001b[1;34m()\u001b[0m\n\u001b[0;32m     65\u001b[0m \u001b[1;33m\u001b[0m\u001b[0m\n\u001b[0;32m     66\u001b[0m \u001b[1;33m\u001b[0m\u001b[0m\n\u001b[1;32m---> 67\u001b[1;33m \u001b[0mprint\u001b[0m\u001b[1;33m(\u001b[0m\u001b[0mcommentarray\u001b[0m\u001b[1;33m[\u001b[0m\u001b[1;36m1\u001b[0m\u001b[1;33m]\u001b[0m\u001b[1;33m)\u001b[0m\u001b[1;33m\u001b[0m\u001b[0m\n\u001b[0m\u001b[0;32m     68\u001b[0m \u001b[1;33m\u001b[0m\u001b[0m\n\u001b[0;32m     69\u001b[0m \u001b[0mplt\u001b[0m\u001b[1;33m.\u001b[0m\u001b[0mshow\u001b[0m\u001b[1;33m(\u001b[0m\u001b[1;33m)\u001b[0m\u001b[1;33m\u001b[0m\u001b[0m\n",
      "\u001b[1;31mNameError\u001b[0m: name 'commentarray' is not defined"
     ]
    }
   ],
   "source": [
    "    from astropy.table import Table\n",
    "    import scipy, pylab\n",
    "\n",
    "    songhigh = Table.read('song-high-sb.csv')              # Takes in Whittmann's and Song's data\n",
    "    songlow = Table.read('song-low-sb.csv')\n",
    "    wittmann = Table.read('wittmann-2017.csv')\n",
    "    ax1 = pylab.subplot(111)\n",
    "    ax1.scatter(songlow['ra'], songlow['dec'], s=80, facecolors='none', edgecolors='r', label='Song_low')\n",
    "    ax1.scatter(songhigh['ra'], songhigh['dec'], s=80, facecolors='none', edgecolors='r', label='Song_high')\n",
    "    ax1.scatter(wittmann['ra'], wittmann['dec'], s=10, c = 'b', marker = \"o\", label = 'Wittmann')\n",
    "\n",
    "    plt.legend(loc='upper right');\n",
    "\n",
    "    pylab.ylim([40.8, 42.0])\n",
    "    pylab.xlim([49.0, 51.0])\n",
    "    plt.xlabel('$ra [deg]$')\n",
    "    plt.ylabel('$dec [deg]$')\n",
    "    plt.tight_layout()\n",
    "\n",
    "    import numpy as np\n",
    "\n",
    "    import matplotlib.pyplot as plt\n",
    "    import matplotlib\n",
    "    from matplotlib.patches import Polygon\n",
    "    from matplotlib.collections import PatchCollection\n",
    "\n",
    "\n",
    "    imagenum = 502                                          # which file are we looking at?\n",
    "    polynum = 1\n",
    "\n",
    "    panelstolookat = ['S3', 'I3', 'I2']                     # input string (argument to function)\n",
    "    paneltags = []                                          # list of panel tags\n",
    "    for j in range(len(panelstolookat)):\n",
    "        paneltags.append(\"tag={%s}\" %panelstolookat[j])     # creates a reference tag for each panel number in the input\n",
    "\n",
    "    panelnum = \"I3\" \n",
    "    r = pyregion.open(image_file(imagenum))\n",
    "\n",
    "    xyarrays = []                                           # stores the desireable panels' xy-coordinates from r[index]\n",
    "\n",
    "    for i in range(len(r)):\n",
    "        for j in range(len(paneltags)):\n",
    "            if r[i].comment == paneltags[j]:\n",
    "                xyarrays.append(r[i].coord_list)\n",
    "\n",
    "\n",
    "\n",
    "    patches = []                                            # list of patches\n",
    "\n",
    "    for i in range(len(xyarrays)):                          # hard-code the polynomials using four calculated panel points\n",
    "        xy = xyarrays[i]\n",
    "        panel = Polygon([[xy[0],xy[1]], [xy[2],xy[3]], [xy[4],xy[5]], [xy[6],xy[7]]], True)  \n",
    "        patches.append(panel)\n",
    "\n",
    "\n",
    "    p = PatchCollection(patches, cmap=matplotlib.cm.jet, alpha=0.4)\n",
    "\n",
    "    colors = 100*np.random.rand(len(patches))\n",
    "    p.set_array(np.array(colors))\n",
    "\n",
    "    ax1.add_collection(p)\n",
    "\n",
    "    plt.show()\n",
    "\n",
    "    \n",
    "    \n",
    "    print(commentarray[1])\n",
    "\n",
    "    plt.show()"
   ]
  },
  {
   "cell_type": "code",
   "execution_count": 137,
   "metadata": {},
   "outputs": [
    {
     "data": {
      "image/png": "[encoded data removed]",
      "text/plain": [
       "<matplotlib.figure.Figure at 0x1fa60c6ccf8>"
      ]
     },
     "metadata": {},
     "output_type": "display_data"
    },
    {
     "name": "stdout",
     "output_type": "stream",
     "text": [
      "tag={I2}\n"
     ]
    }
   ],
   "source": [
    "import numpy as np\n",
    "import matplotlib.pyplot as plt\n",
    "import matplotlib\n",
    "from matplotlib.patches import Polygon\n",
    "from matplotlib.collections import PatchCollection\n",
    "from astropy.table import Table\n",
    "import scipy, pylab\n",
    "\n",
    "def perseus_panelplot(ds9number, panelarray):\n",
    "\n",
    "    songhigh = Table.read('song-high-sb.csv')              # Takes in Whittmann's and Song's data\n",
    "    songlow = Table.read('song-low-sb.csv')\n",
    "    wittmann = Table.read('wittmann-2017.csv')\n",
    "    songra = np.append(songhigh['ra'], songlow['ra'])      # add the Song files together\n",
    "    songdec = np.append(songhigh['dec'], songlow['dec'])   \n",
    "    ax1 = pylab.subplot(111)\n",
    "    ax1.scatter(songra, songdec, s=80, facecolors='none', edgecolors='r', label='Song')\n",
    "    ax1.scatter(wittmann['ra'], wittmann['dec'], s=10, c = 'b', marker = \"o\", label = 'Wittmann')\n",
    "\n",
    "    plt.legend(loc='upper right');\n",
    "\n",
    "    pylab.ylim([40.8, 42.0])\n",
    "    pylab.xlim([49.0, 51.0])\n",
    "    plt.xlabel('$ra [deg]$')\n",
    "    plt.ylabel('$dec [deg]$')\n",
    "    plt.tight_layout()\n",
    "\n",
    "\n",
    "    imagenum = ds9number                                    # which file are we looking at?\n",
    "    \n",
    "    paneltags = []                                          # list of panel tags\n",
    "    for j in range(len(panelarray)):\n",
    "        paneltags.append(\"tag={%s}\" %panelarray[j])     # creates a reference tag for each panel number in the input\n",
    "\n",
    "        \n",
    "    r = pyregion.open(image_file(imagenum))             # Use pyregion.open to get the information from the region file\n",
    "\n",
    "    xyarrays = []                                           # stores the desireable panels' xy-coordinates from r[index]\n",
    "    commentarray = []\n",
    "    \n",
    "\n",
    "    for i in range(len(r)):\n",
    "        for j in range(len(paneltags)):\n",
    "            if r[i].comment == paneltags[j]:\n",
    "                xyarrays.append(r[i].coord_list)\n",
    "                commentarray.append(r[i].comment)       #EDIT TO GET THE DICTIONARY COLOR NUMS IN ORDER WITH THE PANEL COORDS\n",
    "                \n",
    "    colorarray = np.zeros(len(commentarray))         \n",
    "    for c in range(len(commentarray)):\n",
    "        if \"I3\" in commentarray[c]:\n",
    "            colorarray[c] = 25\n",
    "        elif \"I2\" in commentarray[c]:\n",
    "            colorarray[c] = 30\n",
    "        elif \"I1\" in commentarray[c]:\n",
    "            colorarray[c] = 45\n",
    "        elif \"I0\" in commentarray[c]:\n",
    "            colorarray[c] = 20\n",
    "        elif \"S3\" in commentarray[c]:\n",
    "            colorarray[c] = 10\n",
    "       \n",
    "    patches = []                                            # initialize list of patches\n",
    "\n",
    "    for i in range(len(xyarrays)):                          # hard-code the polynomials using four calculated panel points\n",
    "        xy = xyarrays[i]\n",
    "        panel = Polygon([[xy[0],xy[1]], [xy[2],xy[3]], [xy[4],xy[5]], [xy[6],xy[7]]], True)  \n",
    "        patches.append(panel)\n",
    "\n",
    "\n",
    "    p = PatchCollection(patches, cmap=matplotlib.cm.jet, alpha=0.4)\n",
    "\n",
    "    colors = colorarray\n",
    "    p.set_array(np.array(colors))\n",
    "\n",
    "    ax1.add_collection(p)\n",
    "    plt.show()\n",
    "    print(commentarray[1])\n",
    "perseus_panelplot(4949, ['I3', 'S3', 'I2', 'I0' 'I1'])"
   ]
  },
  {
   "cell_type": "code",
   "execution_count": 173,
   "metadata": {},
   "outputs": [
    {
     "data": {
      "image/png": "[encoded data removed]",
      "text/plain": [
       "<matplotlib.figure.Figure at 0x1c33d0f8240>"
      ]
     },
     "metadata": {},
     "output_type": "display_data"
    }
   ],
   "source": [
    "plotperseus()\n",
    "import matplotlib.patches as patches\n",
    "plist,artlist= create_panel(\"regfiles/17274.reg\")\n",
    "for p in plist:\n",
    "    ax1.add_patch(p)\n",
    "for t in artlist:\n",
    "    ax1.add_artist(t)"
   ]
  }
 ],
 "metadata": {
  "kernelspec": {
   "display_name": "Python 3",
   "language": "python",
   "name": "python3"
  }
 },
 "nbformat": 4,
 "nbformat_minor": 2
}
