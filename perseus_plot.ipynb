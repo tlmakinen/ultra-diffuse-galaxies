{
 "cells": [
  {
   "cell_type": "code",
   "execution_count": 86,
   "metadata": {
    "collapsed": true
   },
   "outputs": [],
   "source": [
    "import numpy as np\n",
    "import math\n",
    "import matplotlib.pyplot as plt\n",
    "import pylab\n",
    "from csv import reader\n",
    "import astropy"
   ]
  },
  {
   "cell_type": "code",
   "execution_count": 87,
   "metadata": {
    "collapsed": true
   },
   "outputs": [],
   "source": [
    "from astropy.table import Table"
   ]
  },
  {
   "cell_type": "code",
   "execution_count": 119,
   "metadata": {
    "collapsed": true
   },
   "outputs": [],
   "source": [
    "songhigh = Table.read('song-high-sb.csv')  #"
   ]
  },
  {
   "cell_type": "code",
   "execution_count": 120,
   "metadata": {},
   "outputs": [
    {
     "data": {
      "text/html": [
       "&lt;Table length=9&gt;\n",
       "<table id=\"table2840940414064\" class=\"table-striped table-bordered table-condensed\">\n",
       "<thead><tr><th>ra</th><th>dec</th></tr></thead>\n",
       "<thead><tr><th>float64</th><th>float64</th></tr></thead>\n",
       "<tr><td>50.0108330877</td><td>41.162407363</td></tr>\n",
       "<tr><td>49.1057078896</td><td>41.2430974847</td></tr>\n",
       "<tr><td>49.6241425569</td><td>41.3026517102</td></tr>\n",
       "<tr><td>50.9924538089</td><td>41.4965404088</td></tr>\n",
       "<tr><td>50.7430031207</td><td>41.533643493</td></tr>\n",
       "<tr><td>50.6485621898</td><td>41.7391854273</td></tr>\n",
       "<tr><td>50.5338393184</td><td>41.7503858207</td></tr>\n",
       "<tr><td>49.4480547399</td><td>41.7929949131</td></tr>\n",
       "<tr><td>50.1902554605</td><td>41.9628198011</td></tr>\n",
       "</table>"
      ],
      "text/plain": [
       "<Table length=9>\n",
       "      ra           dec     \n",
       "   float64       float64   \n",
       "------------- -------------\n",
       "50.0108330877  41.162407363\n",
       "49.1057078896 41.2430974847\n",
       "49.6241425569 41.3026517102\n",
       "50.9924538089 41.4965404088\n",
       "50.7430031207  41.533643493\n",
       "50.6485621898 41.7391854273\n",
       "50.5338393184 41.7503858207\n",
       "49.4480547399 41.7929949131\n",
       "50.1902554605 41.9628198011"
      ]
     },
     "execution_count": 120,
     "metadata": {},
     "output_type": "execute_result"
    }
   ],
   "source": [
    "songhigh"
   ]
  },
  {
   "cell_type": "code",
   "execution_count": 121,
   "metadata": {
    "collapsed": true
   },
   "outputs": [],
   "source": [
    "songlow = Table.read('song-low-sb.csv')"
   ]
  },
  {
   "cell_type": "code",
   "execution_count": 122,
   "metadata": {},
   "outputs": [
    {
     "data": {
      "text/plain": [
       "['ra', 'dec']"
      ]
     },
     "execution_count": 122,
     "metadata": {},
     "output_type": "execute_result"
    }
   ],
   "source": [
    "songlow.colnames"
   ]
  },
  {
   "cell_type": "code",
   "execution_count": 123,
   "metadata": {},
   "outputs": [],
   "source": [
    "wittmann = Table.read('wittmann-2017.csv')"
   ]
  },
  {
   "cell_type": "code",
   "execution_count": 124,
   "metadata": {},
   "outputs": [
    {
     "data": {
      "text/plain": [
       "['ID', 'ra', 'dec', 'mu_V', 'M_V', 'A_V', 'r_50', 'ell']"
      ]
     },
     "execution_count": 124,
     "metadata": {},
     "output_type": "execute_result"
    }
   ],
   "source": [
    "wittmann.colnames"
   ]
  },
  {
   "cell_type": "code",
   "execution_count": null,
   "metadata": {
    "collapsed": true
   },
   "outputs": [],
   "source": []
  },
  {
   "cell_type": "code",
   "execution_count": 153,
   "metadata": {
    "scrolled": false
   },
   "outputs": [
    {
     "data": {
      "image/png": "[encoded data removed]",
      "text/plain": [
       "<matplotlib.figure.Figure at 0x2957546add8>"
      ]
     },
     "metadata": {},
     "output_type": "display_data"
    },
    {
     "data": {
      "text/plain": [
       "<matplotlib.figure.Figure at 0x2957aa90320>"
      ]
     },
     "metadata": {},
     "output_type": "display_data"
    }
   ],
   "source": [
    "\n",
    "\n",
    "import scipy, pylab\n",
    "ax1 = pylab.subplot(111)\n",
    "\n",
    "ax1.scatter(songlow['ra'], songlow['dec'], s=80, facecolors='none', edgecolors='r', label='Song_low')\n",
    "ax1.scatter(songhigh['ra'], song['dec'], s=80, facecolors='none', edgecolors='r', label='Song_high')\n",
    "ax1.scatter(wittmann['ra'], wittmann['dec'], s=10, c = 'b', marker = \"o\", label = 'Wittman')\n",
    "\n",
    "                    \n",
    "plt.legend(loc='upper right');\n",
    "                    \n",
    "\n",
    "pylab.ylim([40.8, 42.0])\n",
    "\n",
    "pylab.xlim([49.0, 51.0])\n",
    "plt.xlabel('$ra [deg]$')\n",
    "plt.ylabel('$dec [deg]$')\n",
    "plt.tight_layout()\n",
    "\n",
    "import matplotlib.patches as patches\n",
    "\n",
    "fig1 = plt.figure()\n",
    "\n",
    "ax1.add_patch(\n",
    "    patches.Rectangle(\n",
    "        (50.17167962, 41.49796279),   # (x,y)\n",
    "        .13,          # width\n",
    "        .13,          # height\n",
    "        fill=False,\n",
    "        edgecolor = 'b'  # I2 panel\n",
    "    )\n",
    ")\n",
    "\n",
    "ax1.add_patch(\n",
    "    patches.Rectangle(\n",
    "        (50.04738632, 41.60692993),\n",
    "        .13,\n",
    "        .13,\n",
    "        fill = False,\n",
    "        edgecolor = 'y'))\n",
    "\n",
    "ax1.add_patch(\n",
    "    patches.Rectangle(\n",
    "        (49.96330207, 41.39530242),\n",
    "        .13,\n",
    "        .13,\n",
    "        fill = False,\n",
    "        edgecolor = 'g'))  # S3 panel\n",
    "\n",
    "ax1.add_patch(\n",
    "    patches.Rectangle(\n",
    "        (50.29018972, 42.11896735),\n",
    "        .13,\n",
    "        .13,\n",
    "        fill = False,\n",
    "        edgecolor = 'r'))   # I0 panel\n",
    "\n",
    "plt.show()"
   ]
  },
  {
   "cell_type": "code",
   "execution_count": null,
   "metadata": {
    "collapsed": true
   },
   "outputs": [],
   "source": []
  },
  {
   "cell_type": "code",
   "execution_count": 75,
   "metadata": {},
   "outputs": [],
   "source": [
    "def parse_song(filename):\n",
    "    songdata = read_in(filename)\n",
    "    stringra = [i[0] for i in songdata[1::]]\n",
    "    stringdec = [j[0] for j in songdata[1::]]\n",
    "    \n",
    "    ra = np.array(stringra)\n",
    "    ra = ra.astype(np.float)\n",
    "    \n",
    "    dec = np.array(stringdec)\n",
    "    dec = dec.astype(np.float)\n",
    "    \n",
    "    return ra,dec\n",
    "\n",
    "songlowra,songlowdec = parse_song('song-low-sb.csv')\n",
    "\n",
    "songhighra, songhighdec = parse_song('song-high-sb.csv')\n"
   ]
  },
  {
   "cell_type": "code",
   "execution_count": 54,
   "metadata": {
    "scrolled": true
   },
   "outputs": [],
   "source": [
    "def parse_wit(filename):\n",
    "    witdata = read_in(filename)\n",
    "    stringra = [i[1] for i in witdata[1::]]     # alter the list comprehension to ignore the header\n",
    "    stringdec = [j[2] for j in witdata[1::]]\n",
    "    \n",
    "    ra = np.array(stringra)\n",
    "    dec = np.array(stringdec)\n",
    "    ra = ra.astype(np.float)\n",
    "    dec = dec.astype(np.float)\n",
    "    return ra,dec\n",
    "\n",
    "witra,witdec = parse_wit('wittmann-2017.csv')\n",
    "\n",
    "witra;\n"
   ]
  },
  {
   "cell_type": "code",
   "execution_count": 85,
   "metadata": {},
   "outputs": [
    {
     "data": {
      "image/png": "[encoded data removed]",
      "text/plain": [
       "<matplotlib.figure.Figure at 0x29578bfaeb8>"
      ]
     },
     "metadata": {},
     "output_type": "display_data"
    }
   ],
   "source": [
    "# plot song data separately:\n",
    "fig = plt.figure()\n",
    "ax1 = fig.add_subplot(111)\n",
    "\n",
    "ax1.scatter(songlowra, songlowdec, s=10, c='b', marker=\"s\", label='Song_low')\n",
    "ax1.scatter(songhighra, songhighdec, s=10, c='r', marker=\"s\", label='Song_high')\n",
    "ax1.scatter(witra, witdec, s=10, c = 'g', marker = \"o\", label = 'Wittman')\n",
    "plt.legend(loc='upper right');\n",
    "\n",
    "plt.xlabel('$ra [deg]$')\n",
    "plt.ylabel('$dec [deg]$')\n",
    "plt.tight_layout()\n",
    "\n",
    "plt.show()"
   ]
  },
  {
   "cell_type": "code",
   "execution_count": null,
   "metadata": {},
   "outputs": [],
   "source": []
  },
  {
   "cell_type": "code",
   "execution_count": 58,
   "metadata": {},
   "outputs": [
    {
     "ename": "SyntaxError",
     "evalue": "invalid syntax (<ipython-input-58-c72784995e02>, line 9)",
     "output_type": "error",
     "traceback": [
      "\u001b[1;36m  File \u001b[1;32m\"<ipython-input-58-c72784995e02>\"\u001b[1;36m, line \u001b[1;32m9\u001b[0m\n\u001b[1;33m    ra,dec = read_wit(wittmann-2017.csv);\u001b[0m\n\u001b[1;37m                                      ^\u001b[0m\n\u001b[1;31mSyntaxError\u001b[0m\u001b[1;31m:\u001b[0m invalid syntax\n"
     ]
    }
   ],
   "source": [
    "def read_wit(fname):\n",
    "    #fname = 'data/%s.txt' %objnum\n",
    "    \n",
    "    data = np.loadtxt(fname)\n",
    "    ra,dec = data[:,1], data[:,2]\n",
    "    return ra,dec\n",
    "    \n",
    "\n",
    "ra,dec = read_wit(wittmann-2017.csv);"
   ]
  },
  {
   "cell_type": "code",
   "execution_count": null,
   "metadata": {
    "collapsed": true
   },
   "outputs": [],
   "source": []
  }
 ],
 "metadata": {
  "kernelspec": {
   "display_name": "Python 3",
   "language": "python",
   "name": "python3"
  },
  "language_info": {
   "codemirror_mode": {
    "name": "ipython",
    "version": 3
   },
   "file_extension": ".py",
   "mimetype": "text/x-python",
   "name": "python",
   "nbconvert_exporter": "python",
   "pygments_lexer": "ipython3",
   "version": "3.6.1"
  }
 },
 "nbformat": 4,
 "nbformat_minor": 2
}
