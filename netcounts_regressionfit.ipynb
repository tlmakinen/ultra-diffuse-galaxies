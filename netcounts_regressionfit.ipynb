{
 "cells": [
  {
   "cell_type": "code",
   "execution_count": 65,
   "metadata": {
    "scrolled": false
   },
   "outputs": [
    {
     "data": {
      "text/plain": [
       "68"
      ]
     },
     "execution_count": 65,
     "metadata": {},
     "output_type": "execute_result"
    }
   ],
   "source": [
    "#-------Plot Chandra photometry data-------#\n",
    "import numpy as np\n",
    "import matplotlib.pyplot as plt\n",
    "import matplotlib\n",
    "from matplotlib.patches import Polygon\n",
    "from matplotlib.collections import PatchCollection\n",
    "from astropy.table import Table\n",
    "import scipy, pylab\n",
    "from scipy.integrate import trapz, simps\n",
    "import math\n",
    "import astropy\n",
    "import pyregion\n",
    "from matplotlib.lines import Line2D\n",
    "from astropy.io import fits\n",
    "import matplotlib.cm as cmx\n",
    "import matplotlib.colors as colors\n",
    "\n",
    "wittmann = Table.read('wittmann-2017.csv')\n",
    "netcounts11714 = Table.read('netcounts/11714_netcounts.csv')\n",
    "netcounts11715 = Table.read('netcounts/11715_netcounts.csv')\n",
    "netcounts11713 = Table.read('netcounts/11713_netcounts.csv')\n",
    "songcounts = Table.read('netcounts/song_netcounts.csv')\n",
    "\n",
    "netcounts1 = np.append(netcounts11713['net_counts'], netcounts11714['net_counts']) \n",
    "netcounts1 = np.append(netcounts1, netcounts11715['net_counts'])  \n",
    "netcounts1 = np.append(netcounts, songcounts['net_counts'])                                    # all netcount info\n",
    "\n",
    "yupp1 = np.append(netcounts11713['upper_err'], netcounts11714['upper_err'])   \t\t\t\t  # Set upper and lower limits from csv files\n",
    "yupp1 = np.append(yupp1, netcounts11715['upper_err'])\n",
    "yupp1 = np.append(yupp1, songcounts['upper_err'])\n",
    "\n",
    "ylow = np.append(netcounts11713['lower_err'], netcounts11714['lower_err'])\n",
    "ylow = np.append(ylow, netcounts11715['lower_err'])\n",
    "ylow1 = np.append(ylow, songcounts['lower_err'])\n",
    "           \n",
    "ra1 = np.append(netcounts11713['ra'], netcounts11714['ra'])\n",
    "ra1 = np.append(ra1, netcounts11715['ra'])\n",
    "ra1 = np.append(ra1, songcounts['ra'])\n",
    "\n",
    "dec1 = np.append(netcounts11713['dec'], netcounts11714['dec'])\n",
    "dec1 = np.append(dec1, netcounts11715['dec'])\n",
    "dec1 = np.append(dec1, songcounts['dec'])\n",
    "\n",
    "idarray = np.append(netcounts11713['chandra_ID'], netcounts11714['chandra_ID'])\n",
    "idarray = np.append(idarray, netcounts11715['chandra_ID'])\n",
    "idarray = np.append(idarray, (songcounts['chandra_ID']))\n",
    "\n",
    "#-----define a distance function to get distances in degrees between two objects given their ra,dec-----\n",
    "def degreedist(ra1, dec1, ra2, dec2):\n",
    "    ra2 = math.radians(ra2)\n",
    "    dec2 = math.radians(dec2)\n",
    "    ra1 = math.radians(ra1)\n",
    "    dec1 = math.radians(dec1)\n",
    "    cosdist = math.sin(dec1)*math.sin(dec2) + math.cos(dec1)*math.cos(dec2)*math.cos(ra1 - ra2)\n",
    "    return math.degrees(math.acos(cosdist))\n",
    "\n",
    "#-----filter out objects too far away from the target ra, dec of each Chandra Observation's fits file-----\n",
    "#-----create an array of the indexes that fall within the desired distances\n",
    "maxdist = 0.116667 # degrees\n",
    "#maxdist = 2\n",
    "indxs = []\n",
    "def fits_file(imagenum):  # takes each file's number and returns a string fits filename\n",
    "    if int(imagenum) < 1000:\n",
    "        return 'FITSfiles/acisf00%s_repro_evt2.fits' %imagenum\n",
    "    if int(imagenum) < 10000:\n",
    "        return 'FITSfiles/acisf0%s_repro_evt2.fits' %imagenum\n",
    "    else:\n",
    "        return 'FITSfiles/acisf%s_repro_evt2.fits' %imagenum\n",
    "    \n",
    "len(idarray)\n"
   ]
  },
  {
   "cell_type": "code",
   "execution_count": 66,
   "metadata": {},
   "outputs": [],
   "source": [
    "indxs = []\n",
    "for id in range(len(ra1)):\n",
    "    fname = fits_file(idarray[id])\n",
    "    hdulist = fits.open(fname)\n",
    "    hduheader = hdulist[1].header\n",
    "    ra_targ = hduheader['RA_TARG']\n",
    "    dec_targ = hduheader['DEC_TARG']\n",
    "    \n",
    "    dist = degreedist(ra1[id], dec1[id], ra_targ, dec_targ)\n",
    "    if dist < maxdist:\n",
    "        indxs.append(id)"
   ]
  },
  {
   "cell_type": "code",
   "execution_count": 67,
   "metadata": {},
   "outputs": [
    {
     "ename": "IndexError",
     "evalue": "index 58 is out of bounds for axis 0 with size 58",
     "output_type": "error",
     "traceback": [
      "\u001b[1;31m---------------------------------------------------------------------------\u001b[0m",
      "\u001b[1;31mIndexError\u001b[0m                                Traceback (most recent call last)",
      "\u001b[1;32m<ipython-input-67-ccb12d4da439>\u001b[0m in \u001b[0;36m<module>\u001b[1;34m()\u001b[0m\n\u001b[0;32m      7\u001b[0m \u001b[1;33m\u001b[0m\u001b[0m\n\u001b[0;32m      8\u001b[0m \u001b[1;32mfor\u001b[0m \u001b[0mi\u001b[0m \u001b[1;32min\u001b[0m \u001b[0mrange\u001b[0m\u001b[1;33m(\u001b[0m\u001b[0mlen\u001b[0m\u001b[1;33m(\u001b[0m\u001b[0mindxs\u001b[0m\u001b[1;33m)\u001b[0m\u001b[1;33m)\u001b[0m\u001b[1;33m:\u001b[0m\u001b[1;33m\u001b[0m\u001b[0m\n\u001b[1;32m----> 9\u001b[1;33m     \u001b[0mnetcounts\u001b[0m\u001b[1;33m[\u001b[0m\u001b[0mi\u001b[0m\u001b[1;33m]\u001b[0m \u001b[1;33m=\u001b[0m \u001b[0mnetcounts1\u001b[0m\u001b[1;33m[\u001b[0m\u001b[0mindxs\u001b[0m\u001b[1;33m[\u001b[0m\u001b[0mi\u001b[0m\u001b[1;33m]\u001b[0m\u001b[1;33m]\u001b[0m\u001b[1;33m\u001b[0m\u001b[0m\n\u001b[0m\u001b[0;32m     10\u001b[0m     \u001b[0myupp\u001b[0m\u001b[1;33m[\u001b[0m\u001b[0mi\u001b[0m\u001b[1;33m]\u001b[0m \u001b[1;33m=\u001b[0m \u001b[0myupp1\u001b[0m\u001b[1;33m[\u001b[0m\u001b[0mindxs\u001b[0m\u001b[1;33m[\u001b[0m\u001b[0mi\u001b[0m\u001b[1;33m]\u001b[0m\u001b[1;33m]\u001b[0m\u001b[1;33m\u001b[0m\u001b[0m\n\u001b[0;32m     11\u001b[0m     \u001b[0mylow\u001b[0m\u001b[1;33m[\u001b[0m\u001b[0mi\u001b[0m\u001b[1;33m]\u001b[0m \u001b[1;33m=\u001b[0m \u001b[0mylow1\u001b[0m\u001b[1;33m[\u001b[0m\u001b[0mindxs\u001b[0m\u001b[1;33m[\u001b[0m\u001b[0mi\u001b[0m\u001b[1;33m]\u001b[0m\u001b[1;33m]\u001b[0m\u001b[1;33m\u001b[0m\u001b[0m\n",
      "\u001b[1;31mIndexError\u001b[0m: index 58 is out of bounds for axis 0 with size 58"
     ]
    }
   ],
   "source": [
    "# select attributes from objects within desired threshold\n",
    "ra = np.zeros(len(indxs))\n",
    "dec = np.zeros(len(indxs))\n",
    "yupp = np.zeros(len(indxs))\n",
    "ylow = np.zeros(len(indxs))\n",
    "netcounts = np.zeros(len(indxs))\n",
    "\n",
    "for i in range(len(indxs)):\n",
    "    netcounts[i] = netcounts1[indxs[i]]\n",
    "    yupp[i] = yupp1[indxs[i]]\n",
    "    ylow[i] = ylow1[indxs[i]]\n",
    "    ra[i] = ra1[indxs[i]]\n",
    "    dec[i] = dec1[indxs[i]]\n",
    "    \n",
    "netcounts_300 = netcounts[0::2]     # separate by energy level (300kev-2000kev, 2000kev-7000kev)\n",
    "netcounts_2000 = netcounts[1::2]\n",
    "yupp_300 = yupp[0::2]\n",
    "yupp_2000 = yupp[1::2]\n",
    "ylow_300 = ylow[0::2]\n",
    "ylow_2000 = ylow[1::2]\n",
    "    \n",
    "#-----compute distances from NGC1275-----\n",
    "ra_NGC1275 = 49.95041666\n",
    "dec_NGC1275 = 41.51138889\n",
    "distarray = np.zeros(len(ra))\n",
    "for i in range(len(ra)):\n",
    "    distarray[i] = degreedist(ra[i], dec[i], ra_NGC1275, dec_NGC1275)\n",
    "\n",
    "distarray = distarray[0::2]\n",
    "\n",
    "len(distarray)\n",
    "len(ra)\n"
   ]
  },
  {
   "cell_type": "code",
   "execution_count": 68,
   "metadata": {},
   "outputs": [
    {
     "data": {
      "image/png": "[encoded data removed]",
      "text/plain": [
       "<matplotlib.figure.Figure at 0x27c6464b1d0>"
      ]
     },
     "metadata": {},
     "output_type": "display_data"
    }
   ],
   "source": [
    "#------make the plot-----\n",
    "ax1 = pylab.subplot(111)\n",
    "\n",
    "ax1.scatter(distarray, netcounts_300, s=20, facecolors='none', edgecolors='r', label='$0.3-2.0 keV$')\n",
    "ax1.scatter(distarray, netcounts_2000, s=20, c = 'b', marker = \"s\", label = '$2.0-7.0 keV$')\n",
    "\n",
    "ax1.errorbar(distarray, netcounts_300, yerr=(ylow_300, yupp_300), linestyle='none', ecolor='r')\n",
    "ax1.errorbar(distarray, netcounts_2000, yerr=(ylow_2000, yupp_2000), linestyle='none', ecolor='b')\n",
    "\n",
    "\n",
    "#pylab.ylim([40.8, 42.0])\n",
    "#pylab.xlim([])\n",
    "plt.title('Chandra Photometry Data of UDG objects')\n",
    "plt.xlabel('distance from NGC1275 \\n [deg]')\n",
    "plt.ylabel('net counts \\n [counts]')\n",
    "plt.legend(loc='best')\n",
    "plt.tight_layout()\n",
    "\n",
    "plt.show()"
   ]
  },
  {
   "cell_type": "code",
   "execution_count": 64,
   "metadata": {},
   "outputs": [],
   "source": [
    "def gaussianfrankenstein(y_u, sigup, siglo, y, dy):\n",
    "    y = np.array(y)\n",
    "    \n",
    "    fupp = (1/(sigup*math.sqrt(2*math.PI)))*math.exp((-(y-u)**2)/(2*sigup**2))   # Gaussian function for upper error\n",
    "    weightupper = fupp\n",
    "    \n",
    "    flow = \n",
    "    \n",
    "    if y >= 0:\n",
    "        weight = weightupper\n",
    "    \n",
    "    if y < 0:\n",
    "        weight = weightlower\n",
    "        \n",
    "    return weight\n",
    "\n",
    "y, dy = np.linspace(-100, 250, 50, retstep=True)"
   ]
  },
  {
   "cell_type": "code",
   "execution_count": 157,
   "metadata": {},
   "outputs": [
    {
     "data": {
      "image/png": "[encoded data removed]",
      "text/plain": [
       "<matplotlib.figure.Figure at 0x27c64e302b0>"
      ]
     },
     "metadata": {},
     "output_type": "display_data"
    },
    {
     "name": "stdout",
     "output_type": "stream",
     "text": [
      "12.4966049067\n",
      "11.5353276062\n"
     ]
    }
   ],
   "source": [
    "yint = np.linspace(-100, 200)\n",
    "y = np.linspace(-20, 20)\n",
    "\n",
    "\n",
    "sigup = 5\n",
    "siglo = 2\n",
    "u = 4\n",
    "\n",
    "#fupp = np.exp(-((y-u)/sigup)**2/2) / sigup / np.sqrt(2 * np.pi)   \n",
    "#flow = np.exp(-((y-u)/siglo)**2/ 2) / siglo / np.sqrt(2 * np.pi)\n",
    "\n",
    "weightupper = fupp / trapz(fupp, yint)\n",
    "weightlower = flow / trapz(flow, yint)\n",
    "\n",
    "def fn(y, u, sigup, siglo):\n",
    "\n",
    "    if y <= u:\n",
    "        flow = (np.exp(-((y-u)/siglo)**2/ 2) / siglo / np.sqrt(2 * np.pi))\n",
    "        return flow\n",
    "    else:\n",
    "        fupp = np.exp(-((y-u)/sigup)**2/ 2) / sigup / np.sqrt(2 * np.pi) # Gaussian function for upper error\n",
    "        return fupp\n",
    "\n",
    "\n",
    "yint1, dy1 = np.linspace(-100, u, 50, retstep=True)\n",
    "yint2, dy2 = np.linspace(u, 100, 50, retstep=True)\n",
    "\n",
    "y=np.linspace(-10,15,150)\n",
    "\n",
    "f2 = np.vectorize(f)\n",
    "weight = f2(y, u, sigup, siglo)\n",
    "\n",
    "plt.figure()\n",
    "plt.plot(y, weight)\n",
    "plt.show()\n",
    "\n",
    "print(np.sum(weight*dy1))\n",
    "print(np.sum(weight*dy2))\n"
   ]
  },
  {
   "cell_type": "code",
   "execution_count": 78,
   "metadata": {},
   "outputs": [
    {
     "name": "stdout",
     "output_type": "stream",
     "text": [
      "1.0000000000000002\n",
      "0.9999999999999992\n",
      "1.0000000000000016\n"
     ]
    }
   ],
   "source": [
    "import numpy as np\n",
    "from scipy.integrate import trapz, simps\n",
    "\n",
    "x, dx = np.linspace(-100, 250, 50, retstep=True)\n",
    "mean, sigma = 90, 20\n",
    "f = np.exp(-((x-mean)/sigma)**2/2) / sigma / np.sqrt(2 * np.pi)\n",
    "print('{:18.16f}'.format(np.sum(f)*dx))\n",
    "print('{:18.16f}'.format(trapz(f, x)))\n",
    "print('{:18.16f}'.format(simps(f, x)))"
   ]
  },
  {
   "cell_type": "code",
   "execution_count": 48,
   "metadata": {
    "collapsed": true
   },
   "outputs": [],
   "source": [
    "\n",
    "def f_model(pars, x):\n",
    "    # pars is an array [a,b] to fit our function's form.\n",
    "    # function form: f = a/x^2 + b\n",
    "    return -1*pars[0]*(1/np.array(x)) + pars[1]\n",
    "\n",
    "def weighted_squared_deviation(pars, x, y, y_err):\n",
    "    chi = (y - line_model(pars, x)) / y_err\n",
    "    return np.sum(chi**2)\n",
    "\n",
    "_pars = [0, 0]\n",
    "x = distarray\n",
    "y_300 = netcounts_300\n",
    "yerr300 = yerr_300\n",
    "yerr2000 = yerr_2000\n",
    "y_2000 = netcounts_2000"
   ]
  },
  {
   "cell_type": "code",
   "execution_count": 49,
   "metadata": {
    "collapsed": true
   },
   "outputs": [],
   "source": [
    "def leastsquares(x, y, yerr):\n",
    "    X = np.vander(x, N=2, increasing=True)\n",
    "    #Cov = np.zeros((len(yerr1), (len(yerr1))))\n",
    "    #np.fill_diagonal(Cov, yerr1**2)\n",
    "    Cov = np.diag(yerr**2)\n",
    "    Covinv = np.linalg.inv(Cov)\n",
    "    best_pars = np.linalg.inv(X.T @ Covinv @ X) @ (X.T @ Covinv @ y)\n",
    "    pars_Cov = np.linalg.inv(X.T @ Covinv @ X)\n",
    "    return best_pars,pars_Cov"
   ]
  },
  {
   "cell_type": "code",
   "execution_count": 51,
   "metadata": {},
   "outputs": [
    {
     "data": {
      "text/plain": [
       "array([-1.14223809,  1.19763598])"
      ]
     },
     "execution_count": 51,
     "metadata": {},
     "output_type": "execute_result"
    }
   ],
   "source": [
    "bestpars,parscov = leastsquares(x, y_300, yerr300)"
   ]
  },
  {
   "cell_type": "code",
   "execution_count": 90,
   "metadata": {},
   "outputs": [
    {
     "data": {
      "image/png": "[encoded data removed]",
      "text/plain": [
       "<matplotlib.figure.Figure at 0x20eab6c4f28>"
      ]
     },
     "metadata": {},
     "output_type": "display_data"
    },
    {
     "data": {
      "image/png": "[encoded data removed]",
      "text/plain": [
       "<matplotlib.figure.Figure at 0x20eab6bbe80>"
      ]
     },
     "metadata": {},
     "output_type": "display_data"
    },
    {
     "data": {
      "text/plain": [
       "array([[ 0.33927932, -0.5657304 ],\n",
       "       [-0.5657304 ,  0.96539871]])"
      ]
     },
     "execution_count": 90,
     "metadata": {},
     "output_type": "execute_result"
    }
   ],
   "source": [
    "fig1 = plt.figure()                # create common figure\n",
    "fig2 = plt.figure()\n",
    "bestpars300,parscov300 = leastsquares(x, y_300, yerr300)     # for .3-2 keV\n",
    "bestpars2000,parscov2000 = leastsquares(x, y_2000, yerr2000) # for 2-7 keV\n",
    "\n",
    "ax1 = fig1.add_subplot(111)\n",
    "ax1.errorbar(x, y_300, yerr300, linestyle=\"none\", marker='o', ecolor='#666666', label='$0.3-2.0 keV$')\n",
    "x_grid = np.linspace(x.min(), x.max()+0.1, 128)\n",
    "ax1.plot(x_grid, f_model(bestpars300[::-1], x_grid), marker='', linestyle='-', color='r', label='best-fit line')\n",
    "\n",
    "\n",
    "ax2 = fig2.add_subplot(111)\n",
    "ax2.errorbar(x, y_2000, yerr2000, linestyle='none', marker='o', ecolor='#666666')\n",
    "ax2.plot(x_grid, f_model(bestpars2000[::-1], x_grid), marker='', linestyle='-', color='r', label='best-fit line')\n",
    "\n",
    "ax1.set_title('0.3-2 keV')\n",
    "#ax1.set_xlabel('distance from NGC1275 \\n [deg]')\n",
    "ax1.set_ylabel('net counts \\n [counts]')\n",
    "\n",
    "\n",
    "ax2.set_title('2-7 keV')\n",
    "ax2.set_xlabel('distance from NGC1275 \\n [deg]')\n",
    "plt.ylabel('netcounts \\n [counts]')\n",
    "plt.legend(loc='best')\n",
    "plt.tight_layout()\n",
    "\n",
    "plt.show()\n",
    "\n",
    "parscov300"
   ]
  },
  {
   "cell_type": "code",
   "execution_count": null,
   "metadata": {
    "collapsed": true
   },
   "outputs": [],
   "source": []
  }
 ],
 "metadata": {
  "kernelspec": {
   "display_name": "Python 3",
   "language": "python",
   "name": "python3"
  },
  "language_info": {
   "codemirror_mode": {
    "name": "ipython",
    "version": 3
   },
   "file_extension": ".py",
   "mimetype": "text/x-python",
   "name": "python",
   "nbconvert_exporter": "python",
   "pygments_lexer": "ipython3",
   "version": "3.6.1"
  }
 },
 "nbformat": 4,
 "nbformat_minor": 2
}
